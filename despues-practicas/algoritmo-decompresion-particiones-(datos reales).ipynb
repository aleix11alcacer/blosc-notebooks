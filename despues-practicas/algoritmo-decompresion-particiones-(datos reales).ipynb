{
 "cells": [
  {
   "cell_type": "markdown",
   "metadata": {},
   "source": [
    "# Comprimiendo y descomprimiendo en *C*"
   ]
  },
  {
   "cell_type": "markdown",
   "metadata": {},
   "source": [
    "En este notebook se va a analizar el rendimiento del algoritmo creado para poder comprimir los datos particionados y, de esta forma, poder descomprimir solo los datos necesarios.\n",
    "\n",
    "Para ello se va a crear un conjunto de datos y se va a comprimir y descompirmir de la forma tradicional. Es decir, se va a descomprimir todo el conjunto de datos y, posteriormente, se seleccionará el subconjunto de datos deseado.\n",
    "\n",
    "Por otra parte se va a particionar los datos y, luego, comprimirlos. A la hora de descomprimir, se calculará las particiones que contienen los datos deseados y sólo se descomprimirán estas."
   ]
  },
  {
   "cell_type": "markdown",
   "metadata": {},
   "source": [
    "## Paquetes necesarios"
   ]
  },
  {
   "cell_type": "code",
   "execution_count": 1,
   "metadata": {},
   "outputs": [],
   "source": [
    "import transformData as td\n",
    "import matplotlib.pyplot as plt\n",
    "import tables as tb\n",
    "import numpy as np\n",
    "import time as t"
   ]
  },
  {
   "cell_type": "markdown",
   "metadata": {},
   "source": [
    "## Definición del conjunto de datos"
   ]
  },
  {
   "cell_type": "code",
   "execution_count": 2,
   "metadata": {},
   "outputs": [],
   "source": [
    "def file_reader(filename, dataset):\n",
    "    with tb.open_file(filename) as f:\n",
    "        child = f.root\n",
    "        for element in dataset.split('/'):\n",
    "            child = child.__getattr__(element)\n",
    "        return child[:]"
   ]
  },
  {
   "cell_type": "markdown",
   "metadata": {},
   "source": [
    "### Datos sin transformación"
   ]
  },
  {
   "cell_type": "markdown",
   "metadata": {},
   "source": [
    "El conjunto de datos que se va a usar será de $4$ dimensiones con la forma $(744, 39, 30, 251)$. Por tanto habrá $744\\cdot39\\cdot30\\cdot251 = 218.490.480$ elementos."
   ]
  },
  {
   "cell_type": "code",
   "execution_count": 3,
   "metadata": {},
   "outputs": [],
   "source": [
    "PATH = '/home/aleix/datasets/'\n",
    "\n",
    "filename = 'WRF_India.h5'\n",
    "\n",
    "dataset = 'U'\n",
    "\n",
    "src = file_reader(PATH + filename, dataset)\n",
    "\n",
    "SHAPE = src.shape\n",
    "\n",
    "SIZE = np.prod(SHAPE)\n",
    "\n",
    "ITEMSIZE = src.dtype.itemsize\n",
    "\n",
    "DTYPE = src.dtype"
   ]
  },
  {
   "cell_type": "markdown",
   "metadata": {},
   "source": [
    "### Datos transformados"
   ]
  },
  {
   "cell_type": "markdown",
   "metadata": {},
   "source": [
    "El tamaño de las particiones tiene que ser más pequeño que el del conjunto de datos. En este caso, las particiones son de $32$ o $16$ elementos por cada dimensión lo que resulta que cada partición tendrá $32\\cdot8\\cdot8\\cdot32=65.536$ elementos."
   ]
  },
  {
   "cell_type": "code",
   "execution_count": 4,
   "metadata": {
    "scrolled": true
   },
   "outputs": [],
   "source": [
    "PART_SHAPE = [32, 8, 8, 32]\n",
    "\n",
    "src_part = td.tData(src, PART_SHAPE, inverse=False)\n",
    "\n",
    "TSHAPE = src_part.shape"
   ]
  },
  {
   "cell_type": "markdown",
   "metadata": {},
   "source": [
    "## Compresión y descompresión de los datos"
   ]
  },
  {
   "cell_type": "markdown",
   "metadata": {},
   "source": [
    "### Compresión"
   ]
  },
  {
   "cell_type": "code",
   "execution_count": 5,
   "metadata": {},
   "outputs": [],
   "source": [
    "# Datos particionados\n",
    "\n",
    "start = t.perf_counter()\n",
    "dest_trans = td.compress(src_part, PART_SHAPE)\n",
    "end = t.perf_counter()\n",
    "\n",
    "ct_t = end - start\n",
    "\n",
    "# Datos originales\n",
    "\n",
    "start = t.perf_counter()\n",
    "dest = td.compress(src, PART_SHAPE)\n",
    "end = t.perf_counter()\n",
    "\n",
    "c_t = end - start"
   ]
  },
  {
   "cell_type": "markdown",
   "metadata": {},
   "source": [
    "### Descompresión"
   ]
  },
  {
   "cell_type": "code",
   "execution_count": 20,
   "metadata": {
    "scrolled": false
   },
   "outputs": [],
   "source": [
    "# Datos particionados\n",
    "\n",
    "start = t.perf_counter()\n",
    "res_trans = td.decompress_trans(dest_trans, SHAPE, TSHAPE, PART_SHAPE, DTYPE, a=500, d=200)\n",
    "end = t.perf_counter()\n",
    "\n",
    "dt_t = end - start\n",
    "\n",
    "# Datos originales\n",
    "\n",
    "start = t.perf_counter()\n",
    "res = td.decompress(dest, SHAPE, DTYPE)[500, :, :, 200].reshape(res_trans.shape)\n",
    "end = t.perf_counter()\n",
    "\n",
    "d_t = end - start"
   ]
  },
  {
   "cell_type": "markdown",
   "metadata": {},
   "source": [
    "## Resultados y conclusiones"
   ]
  },
  {
   "cell_type": "code",
   "execution_count": 21,
   "metadata": {},
   "outputs": [
    {
     "name": "stdout",
     "output_type": "stream",
     "text": [
      "OK. Las dos matrices son iguales.\n",
      "El tiempo de decompresión de los datos particionados es 155.0988 veces más rápido que el de la decompresión normal.\n"
     ]
    }
   ],
   "source": [
    "try:\n",
    "    np.testing.assert_array_equal(res_trans, res)\n",
    "    print(\"OK. Las dos matrices son iguales.\")\n",
    "    print(\"El tiempo de decompresión de los datos particionados \"\n",
    "          \"es {:.4f} veces más rápido que el de la decompresión \"\n",
    "          \"normal.\".format(d_t/dt_t))\n",
    "\n",
    "except Exception:\n",
    "    print(\"ERROR. Las dos matrices no coinciden.\")"
   ]
  },
  {
   "cell_type": "code",
   "execution_count": null,
   "metadata": {},
   "outputs": [],
   "source": []
  }
 ],
 "metadata": {
  "kernelspec": {
   "display_name": "Python 3",
   "language": "python",
   "name": "python3"
  },
  "language_info": {
   "codemirror_mode": {
    "name": "ipython",
    "version": 3
   },
   "file_extension": ".py",
   "mimetype": "text/x-python",
   "name": "python",
   "nbconvert_exporter": "python",
   "pygments_lexer": "ipython3",
   "version": "3.6.4"
  }
 },
 "nbformat": 4,
 "nbformat_minor": 2
}
