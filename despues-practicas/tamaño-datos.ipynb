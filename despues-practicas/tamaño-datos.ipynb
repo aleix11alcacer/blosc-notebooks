{
 "cells": [
  {
   "cell_type": "markdown",
   "metadata": {},
   "source": [
    "# Test de cómo el tamaño de los datos afecta a la decompresión"
   ]
  },
  {
   "cell_type": "markdown",
   "metadata": {},
   "source": [
    "En este notebook se va a analizar el rendimiento del algoritmo dependiendo del tamaño de la partición.\n",
    "\n",
    "Para ello se va a crear un conjunto de datos y se va a comprimir y descompirmir usando diferentes tamaños de particiones.\n",
    "\n",
    "Finalmente, se va a hacer una gráfica con los tiempos de decompresión en cada partición."
   ]
  },
  {
   "cell_type": "markdown",
   "metadata": {},
   "source": [
    "## Paquetes necesarios"
   ]
  },
  {
   "cell_type": "code",
   "execution_count": 1,
   "metadata": {},
   "outputs": [],
   "source": [
    "import transformData as td\n",
    "import matplotlib.pyplot as plt\n",
    "import numpy as np\n",
    "import time as t\n",
    "from math import ceil"
   ]
  },
  {
   "cell_type": "markdown",
   "metadata": {},
   "source": [
    "## Operando con del conjunto de datos"
   ]
  },
  {
   "cell_type": "markdown",
   "metadata": {},
   "source": [
    "En este apartado se van a generar distintos conjuntos de datos, cada vez con más elementos, y se van a particionar y comprimir. \n",
    "\n",
    "Cada conjunto de datos comprimido se va a descomprimir de la forma usual (descomprimiendo todo el archivo) y de la forma implementada en este proyecto, es decir, extrayendo solo las particiones necesarias para obtener el subconjunto de datos deseado."
   ]
  },
  {
   "cell_type": "code",
   "execution_count": 2,
   "metadata": {
    "scrolled": false
   },
   "outputs": [],
   "source": [
    "times = []\n",
    "\n",
    "for div in range(1, 30):\n",
    "    \n",
    "    SHAPE = [4 * div, 4 * div, 4 * div, 4 * div]\n",
    "\n",
    "    SIZE = np.prod(SHAPE)\n",
    "\n",
    "    src = np.arange(SIZE, dtype=np.int32).reshape(SHAPE)\n",
    "\n",
    "    ITEMSIZE = src.itemsize\n",
    "\n",
    "    DTYPE = src.dtype\n",
    "    \n",
    "    PART_SHAPE = [ceil(min(SHAPE) / 8)] * len(SHAPE)\n",
    "    \n",
    "    src_part = td.tData(src, PART_SHAPE, inverse=False)\n",
    "\n",
    "    TSHAPE = src_part.shape\n",
    "    \n",
    "    # Datos particionados\n",
    "\n",
    "    start = t.perf_counter()\n",
    "    dest_trans = td.compress(src_part, PART_SHAPE)\n",
    "    end = t.perf_counter()\n",
    "\n",
    "    ct_t = end - start\n",
    "\n",
    "    # Datos originales\n",
    "\n",
    "    start = t.perf_counter()\n",
    "    dest = td.compress(src, PART_SHAPE)\n",
    "    end = t.perf_counter()\n",
    "\n",
    "    c_t = end - start\n",
    "    \n",
    "    # Datos particionados\n",
    "    \n",
    "    dt_t = []\n",
    "    \n",
    "    for _ in range(5):\n",
    "        \n",
    "        start = t.perf_counter()\n",
    "        res_trans = td.decompress_trans(dest_trans, SHAPE, \n",
    "                                        TSHAPE, PART_SHAPE, c=3*div, d=3*div)\n",
    "        end = t.perf_counter()\n",
    "\n",
    "        dt_t.append(end - start)\n",
    "\n",
    "    # Datos originales\n",
    "\n",
    "    d_t = []\n",
    "    \n",
    "    for _ in range(5):\n",
    "        start = t.perf_counter()\n",
    "        res = td.decompress(dest, SHAPE, ITEMSIZE, DTYPE)[:, :, 3*div: 3*div + 1, 3*div:3*div + 1]\\\n",
    "                .reshape(res_trans.shape)\n",
    "        end = t.perf_counter()\n",
    "\n",
    "        d_t.append(end - start)\n",
    "    \n",
    "    np.testing.assert_array_equal(res_trans, res)\n",
    "    \n",
    "    times.append(min(d_t) / min(dt_t))"
   ]
  },
  {
   "cell_type": "markdown",
   "metadata": {},
   "source": [
    "## Resultados y conclusiones"
   ]
  },
  {
   "cell_type": "markdown",
   "metadata": {},
   "source": [
    "En la siguiente gráfica se muestra en el eje $X$ el tamaño de la dimensión del conjunto de datos. Por ejemplo, el $12$ significa que la forma del conjunto de datos es $(12, 12, 12, 12)$ y que, por tanto, tiene $12^4=20736$ elementos.\n",
    "\n",
    "Por otra parte, en el eje $Y$ está representado el speed up obtenido. Es decir, cuántas veces es más rápido la decompresión de las particiones frente a la decompresión normal. Un valor de $25$ significa que la decompresión de las particiones es $5$ veces más rápida que la decompresión normal."
   ]
  },
  {
   "cell_type": "code",
   "execution_count": 3,
   "metadata": {
    "scrolled": true
   },
   "outputs": [
    {
     "data": {
      "image/png": "[encoded data removed]",
      "text/plain": [
       "<matplotlib.figure.Figure at 0x110a25e80>"
      ]
     },
     "metadata": {},
     "output_type": "display_data"
    }
   ],
   "source": [
    "plt.plot(np.arange(1, len(times) + 1) * 4, times, 'b')\n",
    "plt.plot(np.arange(1, len(times) + 1) * 4, times, '.r')\n",
    "\n",
    "plt.xlabel('Número de elementos en cada dimensión')\n",
    "plt.ylabel('Speed up de la decompresión')\n",
    "\n",
    "plt.show()"
   ]
  }
 ],
 "metadata": {
  "kernelspec": {
   "display_name": "Python 3",
   "language": "python",
   "name": "python3"
  },
  "language_info": {
   "codemirror_mode": {
    "name": "ipython",
    "version": 3
   },
   "file_extension": ".py",
   "mimetype": "text/x-python",
   "name": "python",
   "nbconvert_exporter": "python",
   "pygments_lexer": "ipython3",
   "version": "3.6.4"
  }
 },
 "nbformat": 4,
 "nbformat_minor": 2
}
