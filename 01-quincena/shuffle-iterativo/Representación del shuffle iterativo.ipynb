{
 "cells": [
  {
   "cell_type": "markdown",
   "metadata": {},
   "source": [
    "# Rperesentación del shuffle iterativo"
   ]
  },
  {
   "cell_type": "markdown",
   "metadata": {},
   "source": [
    "## Definición del los datos"
   ]
  },
  {
   "cell_type": "code",
   "execution_count": 7,
   "metadata": {},
   "outputs": [],
   "source": [
    "% matplotlib inline\n",
    "\n",
    "import numpy as np\n",
    "import matplotlib as mpl\n",
    "import matplotlib.pyplot as plt\n",
    "from math import sqrt\n",
    "\n",
    "# Se define la forma de los datos\n",
    "\n",
    "SIZE = 8\n",
    "TYPE = np.uint16\n",
    "TAM_TYPE = TYPE().dtype.itemsize\n",
    "TYPE_2 = np.uint8\n",
    "TAM_TYPE_2 = TYPE_2().dtype.itemsize\n",
    "RATIO = TAM_TYPE // TAM_TYPE_2"
   ]
  },
  {
   "cell_type": "markdown",
   "metadata": {},
   "source": [
    "## Representación de los datos en su forma real"
   ]
  },
  {
   "cell_type": "markdown",
   "metadata": {},
   "source": [
    "### Código"
   ]
  },
  {
   "cell_type": "code",
   "execution_count": 8,
   "metadata": {},
   "outputs": [],
   "source": [
    "# Se crean las matrices de datos\n",
    "\n",
    "data = np.empty([SIZE, SIZE], dtype=TYPE)\n",
    "for i in range(SIZE):\n",
    "    data[i] = np.arange(SIZE, dtype=TYPE)   \n",
    "    \n",
    "data_out = np.empty([SIZE, SIZE], dtype=TYPE) + 1 # El + 1 evita coincidencias en la primera comparación\n",
    "\n",
    "data_orig = data\n",
    "\n",
    "# Se calulan las permutaciones hasta que se llega, otra vez, a la matriz inicial\n",
    "\n",
    "data_to_plot = [data]\n",
    "\n",
    "while np.array_equal(data_orig, data_out) is False:\n",
    "    \n",
    "    for i in range(SIZE):\n",
    "        chunk = data[i].view(TYPE_2)\n",
    "        chunk_out = np.empty([SIZE], dtype=TYPE).view(TYPE_2)\n",
    "        \n",
    "        for k in range(TAM_TYPE):\n",
    "            chunk_out[SIZE * k:SIZE * (k+1):] = chunk[k::TAM_TYPE]\n",
    "        \n",
    "        data_out[i] = chunk_out.view(TYPE)\n",
    "    \n",
    "    data_to_plot.append(np.array(data_out))\n",
    "    data = data_out"
   ]
  },
  {
   "cell_type": "markdown",
   "metadata": {},
   "source": [
    "### Representación de los resultados"
   ]
  },
  {
   "cell_type": "code",
   "execution_count": 9,
   "metadata": {},
   "outputs": [
    {
     "data": {
      "image/png": "[encoded data removed]",
      "text/plain": [
       "<matplotlib.figure.Figure at 0x10513d400>"
      ]
     },
     "metadata": {},
     "output_type": "display_data"
    }
   ],
   "source": [
    "tam = int((sqrt(len(data_to_plot)) - 0.01) // 1) + 1\n",
    "\n",
    "f, axarr = plt.subplots(tam, tam, figsize=(3*tam,3*tam))\n",
    "\n",
    "for i, elem in enumerate(data_to_plot):\n",
    "    axarr[i // tam, i % tam].imshow(elem, cmap='binary')\n",
    "    axarr[i // tam, i % tam].set_title('Shuffle: ' + str(i))\n",
    "    axarr[i // tam, i % tam].xaxis.set_major_locator(plt.NullLocator())\n",
    "    axarr[i // tam, i % tam].yaxis.set_major_locator(plt.NullLocator())\n",
    "\n",
    "for i in range(len(data_to_plot), tam * tam):\n",
    "    axarr[i // tam, i % tam].set_visible(False)\n",
    "\n",
    "plt.show()"
   ]
  },
  {
   "cell_type": "markdown",
   "metadata": {},
   "source": [
    "## Representación de los datos en bytes"
   ]
  },
  {
   "cell_type": "markdown",
   "metadata": {},
   "source": [
    "### Código"
   ]
  },
  {
   "cell_type": "code",
   "execution_count": 10,
   "metadata": {},
   "outputs": [],
   "source": [
    "# Se crean las matrices de datos\n",
    "\n",
    "data = np.empty([SIZE * RATIO, SIZE], dtype=TYPE).view(TYPE_2)\n",
    "for i in range(SIZE * RATIO):\n",
    "    data[i] = np.arange(SIZE, dtype=TYPE).view(TYPE_2)\n",
    "    \n",
    "data_out = np.empty([SIZE * RATIO, SIZE], dtype=TYPE).view(TYPE_2) + 1\n",
    "\n",
    "data_orig = data\n",
    "\n",
    "# Se calulan las permutaciones hasta que se llega, otra vez, a la matriz inicial\n",
    "\n",
    "data_to_plot = [data]\n",
    "\n",
    "while np.array_equal(data_orig, data_out) is False:\n",
    "    \n",
    "    for i in range(SIZE*RATIO):\n",
    "        chunk = data[i]\n",
    "        chunk_out = np.empty([SIZE], dtype=TYPE).view(TYPE_2)\n",
    "        \n",
    "        for k in range(TAM_TYPE):\n",
    "            chunk_out[SIZE * k:SIZE * (k+1):] = chunk[k::TAM_TYPE]\n",
    "        \n",
    "        data_out[i] = chunk_out\n",
    "    \n",
    "    data_to_plot.append(np.array(data_out))\n",
    "    data = data_out"
   ]
  },
  {
   "cell_type": "markdown",
   "metadata": {},
   "source": [
    "### Representación de los resultados"
   ]
  },
  {
   "cell_type": "code",
   "execution_count": 11,
   "metadata": {},
   "outputs": [
    {
     "data": {
      "image/png": "[encoded data removed]",
      "text/plain": [
       "<matplotlib.figure.Figure at 0x1053db5f8>"
      ]
     },
     "metadata": {},
     "output_type": "display_data"
    }
   ],
   "source": [
    "tam = int((sqrt(len(data_to_plot)) - 0.01) // 1) + 1\n",
    "\n",
    "f, axarr = plt.subplots(tam, tam, figsize=(3*tam,3*tam))\n",
    "\n",
    "for i, elem in enumerate(data_to_plot):\n",
    "    axarr[i // tam, i % tam].imshow(elem, cmap='binary')\n",
    "    axarr[i // tam, i % tam].set_title('Shuffle: ' + str(i))\n",
    "    axarr[i // tam, i % tam].xaxis.set_major_locator(plt.NullLocator())\n",
    "    axarr[i // tam, i % tam].yaxis.set_major_locator(plt.NullLocator())\n",
    "\n",
    "for i in range(len(data_to_plot), tam * tam):\n",
    "    axarr[i // tam, i % tam].set_visible(False)\n",
    "\n",
    "plt.show()"
   ]
  },
  {
   "cell_type": "markdown",
   "metadata": {},
   "source": [
    "## Conclusiones"
   ]
  },
  {
   "cell_type": "markdown",
   "metadata": {},
   "source": [
    "Como se puede observar en la gráficas anteriores, en la primera iteración se obtienen unos datos que permiten conseguir un ratio de compresión óptimo.\n",
    "\n",
    "Se deduce que si la distribución de los datos que produce el mejor ratio de compresión no se consigue en la primera iteración, se pierde la posibilidad de mejorarlo. Es por ello que surje la necesidad de implementar el filtro shuffle de forma iterativa."
   ]
  }
 ],
 "metadata": {
  "kernelspec": {
   "display_name": "Python 3",
   "language": "python",
   "name": "python3"
  },
  "language_info": {
   "codemirror_mode": {
    "name": "ipython",
    "version": 3
   },
   "file_extension": ".py",
   "mimetype": "text/x-python",
   "name": "python",
   "nbconvert_exporter": "python",
   "pygments_lexer": "ipython3",
   "version": "3.6.4"
  }
 },
 "nbformat": 4,
 "nbformat_minor": 2
}
