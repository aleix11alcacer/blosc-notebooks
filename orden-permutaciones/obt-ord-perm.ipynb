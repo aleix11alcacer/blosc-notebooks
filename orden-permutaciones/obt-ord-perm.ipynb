{
 "cells": [
  {
   "cell_type": "markdown",
   "metadata": {},
   "source": [
    "## Obtención del orden de una permutación independientemente de su tamaño"
   ]
  },
  {
   "cell_type": "markdown",
   "metadata": {},
   "source": [
    "## Definición de los datos"
   ]
  },
  {
   "cell_type": "code",
   "execution_count": 7,
   "metadata": {},
   "outputs": [],
   "source": [
    "% matplotlib inline\n",
    "\n",
    "import numpy as np\n",
    "import matplotlib as mpl\n",
    "import matplotlib.pyplot as plt\n",
    "from math import sqrt, gcd\n",
    "\n",
    "TYPE_DATA = np.int32\n",
    "TAM_DATA = TYPE_DATA().dtype.itemsize\n",
    "SIZE = 300 # Elements of TYPE_DATA"
   ]
  },
  {
   "cell_type": "markdown",
   "metadata": {},
   "source": [
    "## Código"
   ]
  },
  {
   "cell_type": "code",
   "execution_count": 8,
   "metadata": {},
   "outputs": [],
   "source": [
    "data = np.arange(SIZE*TAM_DATA)\n",
    "data_out = np.empty([SIZE*TAM_DATA])\n",
    "data_orig = data\n",
    "\n",
    "perm = []\n",
    "\n",
    "for i in range(SIZE*TAM_DATA):\n",
    "    perm.append(set())\n",
    "    \n",
    "while np.array_equal(data_orig, data_out) is False:\n",
    "    chunk = data\n",
    "    chunk_out = np.empty(SIZE*TAM_DATA)      \n",
    "\n",
    "    for k in range(TAM_DATA):\n",
    "        chunk_out[SIZE * k:SIZE * (k+1):] = chunk[k::TAM_DATA]\n",
    "\n",
    "    for i in range(SIZE*TAM_DATA):\n",
    "        perm[i].add(chunk_out[i])\n",
    "\n",
    "    data_out = chunk_out\n",
    "    data = data_out\n",
    "    \n",
    "s = set()\n",
    "\n",
    "for i, elem in enumerate(perm):\n",
    "    s.add(tuple(sorted(tuple(elem))))\n",
    "\n",
    "perm = sorted(list(s))\n",
    "\n",
    "perm_l = []\n",
    "\n",
    "for elem in perm:\n",
    "    perm_l.append(len(elem))\n",
    "\n",
    "lcm = perm_l[0]\n",
    "\n",
    "for elem in perm_l[1:]:\n",
    "    lcm = lcm * elem // gcd(lcm, elem)"
   ]
  },
  {
   "cell_type": "markdown",
   "metadata": {},
   "source": [
    "## Resultado"
   ]
  },
  {
   "cell_type": "code",
   "execution_count": 9,
   "metadata": {
    "scrolled": true
   },
   "outputs": [
    {
     "name": "stdout",
     "output_type": "stream",
     "text": [
      "El orden de la permutación es:  90\n"
     ]
    }
   ],
   "source": [
    "print(\"El orden de la permutación es: \", lcm)"
   ]
  }
 ],
 "metadata": {
  "kernelspec": {
   "display_name": "Python 3",
   "language": "python",
   "name": "python3"
  },
  "language_info": {
   "codemirror_mode": {
    "name": "ipython",
    "version": 3
   },
   "file_extension": ".py",
   "mimetype": "text/x-python",
   "name": "python",
   "nbconvert_exporter": "python",
   "pygments_lexer": "ipython3",
   "version": "3.6.4"
  }
 },
 "nbformat": 4,
 "nbformat_minor": 2
}
