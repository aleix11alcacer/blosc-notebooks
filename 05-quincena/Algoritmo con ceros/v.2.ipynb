{
 "cells": [
  {
   "cell_type": "markdown",
   "metadata": {},
   "source": [
    "# Todo el proceso con el algoritmo con ceros"
   ]
  },
  {
   "cell_type": "markdown",
   "metadata": {},
   "source": [
    "En este notebook se va a realizar todo el proceso hecho hasta ahora pero usando otra versión del algoritmo. \n",
    "\n",
    "Esta nueva versión consiste en rellenar las dimensiones con 0 hasta que el tamaño de la dimensión sea multiplo del tamaño de la partición. \n",
    "\n",
    "De esta forma se simplifica mucho el código con una consequente bajada del tiempo de ejecución."
   ]
  },
  {
   "cell_type": "markdown",
   "metadata": {},
   "source": [
    "## Paquetes necesarios"
   ]
  },
  {
   "cell_type": "code",
   "execution_count": 1,
   "metadata": {},
   "outputs": [],
   "source": [
    "import transformData2 as td\n",
    "import matplotlib.pyplot as plt\n",
    "import numpy as np\n",
    "import pycblosc2 as cb2\n",
    "import time as t\n",
    "import tables as tb"
   ]
  },
  {
   "cell_type": "markdown",
   "metadata": {},
   "source": [
    "## Definición del conjunto de datos"
   ]
  },
  {
   "cell_type": "code",
   "execution_count": 2,
   "metadata": {},
   "outputs": [],
   "source": [
    "def file_reader(filename, dataset):\n",
    "    with tb.open_file(filename) as f:\n",
    "        child = f.root\n",
    "        for element in dataset.split('/'):\n",
    "            child = child.__getattr__(element)\n",
    "        return child[:]"
   ]
  },
  {
   "cell_type": "markdown",
   "metadata": {},
   "source": [
    "### Datos sin transformación"
   ]
  },
  {
   "cell_type": "code",
   "execution_count": 3,
   "metadata": {},
   "outputs": [],
   "source": [
    "PATH = '/home/aleix/datasets/'\n",
    "\n",
    "filename = 'WRF_India.h5'\n",
    "\n",
    "dataset = 'U'\n",
    "\n",
    "src = file_reader(PATH + filename, dataset)\n",
    "\n",
    "SHAPE = src.shape\n",
    "\n",
    "SIZE = np.prod(SHAPE)\n",
    "\n",
    "ITEMSIZE = src.dtype.itemsize"
   ]
  },
  {
   "cell_type": "markdown",
   "metadata": {},
   "source": [
    "### Datos transformados"
   ]
  },
  {
   "cell_type": "code",
   "execution_count": 4,
   "metadata": {
    "scrolled": false
   },
   "outputs": [],
   "source": [
    "start = t.perf_counter()\n",
    "\n",
    "TSUBSHAPE = [64, 4, 4, 32]\n",
    "\n",
    "srct, TSHAPE = td.tData(src, TSUBSHAPE, inverse=False)\n",
    "\n",
    "indexation = td.createIndexation(TSHAPE, TSUBSHAPE)\n",
    "\n",
    "end = t.perf_counter()\n",
    "\n",
    "ttran_tra = end - start"
   ]
  },
  {
   "cell_type": "markdown",
   "metadata": {},
   "source": [
    "## Compresión y descompresión de los datos"
   ]
  },
  {
   "cell_type": "code",
   "execution_count": 5,
   "metadata": {},
   "outputs": [],
   "source": [
    "KB = 1024\n",
    "MB = 1024 * KB\n",
    "GB = 1024 * MB\n",
    "\n",
    "BLOSC_MAX_FILTERS = 5\n",
    "BLOSC_BLOCKSIZE = 16 * KB\n",
    "BLOSC_TYPESIZE = 4\n",
    "BLOSC_CODE = 5\n",
    "\n",
    "cparams = cb2.blosc2_create_cparams(compcode=BLOSC_CODE, clevel=8, use_dict=0, typesize=BLOSC_TYPESIZE,\n",
    "                                        nthreads=4, blocksize= BLOSC_BLOCKSIZE, schunk=None,\n",
    "                                        filters=[0, 0, 0, 0, 1],\n",
    "                                        filters_meta=[0, 0, 0, 0, 0])\n",
    "\n",
    "dparams = cb2.blosc2_create_dparams(nthreads=4, schunk=None)"
   ]
  },
  {
   "cell_type": "markdown",
   "metadata": {},
   "source": [
    "### Datos sin transformación"
   ]
  },
  {
   "cell_type": "markdown",
   "metadata": {},
   "source": [
    "#### Compresión"
   ]
  },
  {
   "cell_type": "code",
   "execution_count": 6,
   "metadata": {},
   "outputs": [],
   "source": [
    "start = t.perf_counter()\n",
    "\n",
    "schunk = td.compress(cparams, dparams, src)\n",
    "\n",
    "end = t.perf_counter()\n",
    "\n",
    "torig_com = end - start"
   ]
  },
  {
   "cell_type": "markdown",
   "metadata": {},
   "source": [
    "#### Descompresión"
   ]
  },
  {
   "cell_type": "code",
   "execution_count": 7,
   "metadata": {},
   "outputs": [],
   "source": [
    "start = t.perf_counter()\n",
    "\n",
    "res = td.decompress(schunk, ITEMSIZE, SHAPE, c=17, d=231)\n",
    "\n",
    "end = t.perf_counter()\n",
    "\n",
    "torig_dec = end - start"
   ]
  },
  {
   "cell_type": "markdown",
   "metadata": {},
   "source": [
    "### Datos transformados"
   ]
  },
  {
   "cell_type": "markdown",
   "metadata": {},
   "source": [
    "#### Compresión"
   ]
  },
  {
   "cell_type": "code",
   "execution_count": 8,
   "metadata": {},
   "outputs": [],
   "source": [
    "start = t.perf_counter()\n",
    "\n",
    "schunk_t = td.compress_trans(cparams, dparams, srct, TSHAPE, TSUBSHAPE)\n",
    "\n",
    "end = t.perf_counter()\n",
    "\n",
    "ttran_com = end - start"
   ]
  },
  {
   "cell_type": "markdown",
   "metadata": {},
   "source": [
    "#### Descompresión"
   ]
  },
  {
   "cell_type": "code",
   "execution_count": 9,
   "metadata": {
    "scrolled": false
   },
   "outputs": [],
   "source": [
    "start = t.perf_counter()\n",
    "\n",
    "res2 = td.decompress_trans(schunk_t, indexation, ITEMSIZE, SHAPE, TSHAPE, TSUBSHAPE,  c=17, d=231)\n",
    "\n",
    "end = t.perf_counter()\n",
    "\n",
    "ttran_dec = end - start"
   ]
  },
  {
   "cell_type": "markdown",
   "metadata": {},
   "source": [
    "## Resultados"
   ]
  },
  {
   "cell_type": "code",
   "execution_count": 10,
   "metadata": {},
   "outputs": [
    {
     "name": "stdout",
     "output_type": "stream",
     "text": [
      "La compresión de los datos transformados es 0.126x más rápida que la original.\n",
      "La descompresión de los datos transformados es 18.252x más rápida que la original.\n"
     ]
    }
   ],
   "source": [
    "print('La compresión de los datos transformados es {:.3f}x más rápida que la original.'.format(torig_com/(ttran_com + ttran_tra)))\n",
    "\n",
    "print('La descompresión de los datos transformados es {:.3f}x más rápida que la original.'.format(torig_dec/ttran_dec))\n"
   ]
  },
  {
   "cell_type": "code",
   "execution_count": 11,
   "metadata": {},
   "outputs": [],
   "source": [
    "np.testing.assert_array_equal(res, res2)"
   ]
  }
 ],
 "metadata": {
  "kernelspec": {
   "display_name": "Python 3",
   "language": "python",
   "name": "python3"
  },
  "language_info": {
   "codemirror_mode": {
    "name": "ipython",
    "version": 3
   },
   "file_extension": ".py",
   "mimetype": "text/x-python",
   "name": "python",
   "nbconvert_exporter": "python",
   "pygments_lexer": "ipython3",
   "version": "3.6.3"
  }
 },
 "nbformat": 4,
 "nbformat_minor": 2
}
