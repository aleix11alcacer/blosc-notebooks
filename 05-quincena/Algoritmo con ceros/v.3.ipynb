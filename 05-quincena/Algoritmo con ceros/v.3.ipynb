{
 "cells": [
  {
   "cell_type": "markdown",
   "metadata": {},
   "source": [
    "# Testeando el padData y el createIndexation"
   ]
  },
  {
   "cell_type": "markdown",
   "metadata": {},
   "source": [
    "## Paquetes necesarios"
   ]
  },
  {
   "cell_type": "code",
   "execution_count": 1,
   "metadata": {},
   "outputs": [],
   "source": [
    "import transformData3 as td\n",
    "import matplotlib.pyplot as plt\n",
    "import numpy as np\n",
    "import pycblosc2 as cb2\n",
    "import time as t"
   ]
  },
  {
   "cell_type": "markdown",
   "metadata": {},
   "source": [
    "## Definición del conjunto de datos"
   ]
  },
  {
   "cell_type": "markdown",
   "metadata": {},
   "source": [
    "### Datos sin transformación"
   ]
  },
  {
   "cell_type": "code",
   "execution_count": 2,
   "metadata": {},
   "outputs": [],
   "source": [
    "SHAPE = [8, 8, 8]\n",
    "\n",
    "SIZE = np.prod(SHAPE)\n",
    "\n",
    "src = np.arange(SIZE, dtype=np.int32).reshape(SHAPE)\n",
    "\n",
    "ITEMSIZE = src.itemsize"
   ]
  },
  {
   "cell_type": "markdown",
   "metadata": {},
   "source": [
    "### Datos transformados"
   ]
  },
  {
   "cell_type": "code",
   "execution_count": 10,
   "metadata": {
    "scrolled": false
   },
   "outputs": [],
   "source": [
    "PART_SHAPE = [4, 4, 4]\n",
    "\n",
    "src_part, indexation = td.tData(src, PART_SHAPE, inverse=False)\n",
    "\n",
    "TSHAPE = src_part.shape"
   ]
  },
  {
   "cell_type": "code",
   "execution_count": 11,
   "metadata": {},
   "outputs": [],
   "source": [
    "KB = 1024\n",
    "MB = 1024 * KB\n",
    "GB = 1024 * MB\n",
    "\n",
    "BLOSC_MAX_FILTERS = 5\n",
    "BLOSC_BLOCKSIZE = 16 * KB\n",
    "BLOSC_TYPESIZE = 4\n",
    "BLOSC_CODE = 5\n",
    "\n",
    "cparams = cb2.blosc2_create_cparams(compcode=BLOSC_CODE, clevel=8, use_dict=0, typesize=BLOSC_TYPESIZE,\n",
    "                                        nthreads=4, blocksize= BLOSC_BLOCKSIZE, schunk=None,\n",
    "                                        filters=[0, 0, 0, 0, 1],\n",
    "                                        filters_meta=[0, 0, 0, 0, 0])\n",
    "\n",
    "dparams = cb2.blosc2_create_dparams(nthreads=4, schunk=None)"
   ]
  },
  {
   "cell_type": "code",
   "execution_count": 12,
   "metadata": {},
   "outputs": [],
   "source": [
    "start = t.perf_counter()\n",
    "\n",
    "schunk = td.compress(cparams, dparams, src)\n",
    "\n",
    "end = t.perf_counter()\n",
    "\n",
    "torig_com = end - start"
   ]
  },
  {
   "cell_type": "code",
   "execution_count": 19,
   "metadata": {},
   "outputs": [],
   "source": [
    "start = t.perf_counter()\n",
    "\n",
    "res = td.decompress(schunk, ITEMSIZE, SHAPE, b=3)\n",
    "\n",
    "end = t.perf_counter()\n",
    "\n",
    "torig_dec = end - start"
   ]
  },
  {
   "cell_type": "code",
   "execution_count": 20,
   "metadata": {},
   "outputs": [],
   "source": [
    "start = t.perf_counter()\n",
    "\n",
    "schunk_t = td.compress_trans(cparams, dparams, src_part, TSHAPE, PART_SHAPE)\n",
    "\n",
    "end = t.perf_counter()\n",
    "\n",
    "ttran_com = end - start"
   ]
  },
  {
   "cell_type": "code",
   "execution_count": 21,
   "metadata": {},
   "outputs": [],
   "source": [
    "start = t.perf_counter()\n",
    "\n",
    "res2 = td.decompress_trans(schunk_t, indexation, ITEMSIZE, SHAPE, TSHAPE, PART_SHAPE,  b=3)\n",
    "\n",
    "end = t.perf_counter()\n",
    "\n",
    "ttran_dec = end - start"
   ]
  },
  {
   "cell_type": "code",
   "execution_count": 22,
   "metadata": {},
   "outputs": [
    {
     "data": {
      "text/plain": [
       "[1, 1, 1, 1, 1, 8, 8, 8]"
      ]
     },
     "execution_count": 22,
     "metadata": {},
     "output_type": "execute_result"
    }
   ],
   "source": [
    "res2"
   ]
  },
  {
   "cell_type": "code",
   "execution_count": 23,
   "metadata": {},
   "outputs": [
    {
     "data": {
      "text/plain": [
       "array([[[[[[[80, 81, 82, 83, 88, 89, 90, 91],\n",
       "            [ 0,  0,  0,  0,  0,  0,  0,  0],\n",
       "            [ 0,  0,  0,  0,  0,  0,  0,  0],\n",
       "            [ 0,  0,  0,  0,  0,  0,  0,  0],\n",
       "            [ 0,  0,  0,  0,  0,  0,  0,  0],\n",
       "            [ 0,  0,  0,  0,  0,  0,  0,  0],\n",
       "            [ 0,  0,  0,  0,  0,  0,  0,  0],\n",
       "            [ 0,  0,  0,  0,  0,  0,  0,  0]]]]]]], dtype=int32)"
      ]
     },
     "execution_count": 23,
     "metadata": {},
     "output_type": "execute_result"
    }
   ],
   "source": [
    "res"
   ]
  },
  {
   "cell_type": "code",
   "execution_count": null,
   "metadata": {},
   "outputs": [],
   "source": []
  }
 ],
 "metadata": {
  "kernelspec": {
   "display_name": "Python 3",
   "language": "python",
   "name": "python3"
  },
  "language_info": {
   "codemirror_mode": {
    "name": "ipython",
    "version": 3
   },
   "file_extension": ".py",
   "mimetype": "text/x-python",
   "name": "python",
   "nbconvert_exporter": "python",
   "pygments_lexer": "ipython3",
   "version": "3.6.4"
  }
 },
 "nbformat": 4,
 "nbformat_minor": 2
}
