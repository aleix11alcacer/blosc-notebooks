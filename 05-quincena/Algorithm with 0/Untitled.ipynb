{
 "cells": [
  {
   "cell_type": "markdown",
   "metadata": {},
   "source": [
    "# Todo el proceso con el algoritmo con ceros"
   ]
  },
  {
   "cell_type": "markdown",
   "metadata": {},
   "source": [
    "En este notebook se va a realizar todo el proceso hecho hasta ahora pero usando otra versión del algoritmo. \n",
    "\n",
    "Esta nueva versión consiste en rellenar las dimensiones con 0 hasta que el tamaño de la dimensión sea multiplo del tamaño de la partición. \n",
    "\n",
    "De esta forma se simplifica mucho el código con una consequente bajada del tiempo de ejecución."
   ]
  },
  {
   "cell_type": "markdown",
   "metadata": {},
   "source": [
    "## Paquetes necesarios"
   ]
  },
  {
   "cell_type": "code",
   "execution_count": 1,
   "metadata": {},
   "outputs": [],
   "source": [
    "import transformData as td\n",
    "import matplotlib.pyplot as plt\n",
    "import numpy as np\n",
    "import pycblosc2 as cb2\n",
    "import time as t"
   ]
  },
  {
   "cell_type": "markdown",
   "metadata": {},
   "source": [
    "## Definición del conjunto de datos"
   ]
  },
  {
   "cell_type": "markdown",
   "metadata": {},
   "source": [
    "### Datos sin transformación"
   ]
  },
  {
   "cell_type": "code",
   "execution_count": 58,
   "metadata": {},
   "outputs": [],
   "source": [
    "SHAPE = [256, 256, 256]\n",
    "\n",
    "SIZE = np.prod(SHAPE)\n",
    "\n",
    "src = np.arange(SIZE, dtype=np.int32).reshape(SHAPE)"
   ]
  },
  {
   "cell_type": "markdown",
   "metadata": {},
   "source": [
    "### Datos transformados"
   ]
  },
  {
   "cell_type": "code",
   "execution_count": 59,
   "metadata": {},
   "outputs": [],
   "source": [
    "start = t.perf_counter()\n",
    "\n",
    "TSUBSHAPE = [32, 32, 32]\n",
    "\n",
    "srct = td.tData(src, TSUBSHAPE, inverse=False)\n",
    "\n",
    "TSHAPE = srct.shape\n",
    "\n",
    "srct = srct.flatten()\n",
    "\n",
    "indexation = td.createIndexation(TSHAPE, TSUBSHAPE)\n",
    "\n",
    "end = t.perf_counter()\n",
    "\n",
    "ttran_tra = end - start"
   ]
  },
  {
   "cell_type": "markdown",
   "metadata": {},
   "source": [
    "## Compresión y descompresión de los datos"
   ]
  },
  {
   "cell_type": "code",
   "execution_count": 60,
   "metadata": {},
   "outputs": [],
   "source": [
    "KB = 1024\n",
    "MB = 1024 * KB\n",
    "GB = 1024 * MB\n",
    "\n",
    "BLOSC_MAX_FILTERS = 5\n",
    "BLOSC_BLOCKSIZE = 16 * KB\n",
    "BLOSC_TYPESIZE = 4\n",
    "BLOSC_CODE = 5\n",
    "\n",
    "cparams = cb2.blosc2_create_cparams(compcode=BLOSC_CODE, clevel=5, use_dict=0, typesize=BLOSC_TYPESIZE,\n",
    "                                        nthreads=4, blocksize= BLOSC_BLOCKSIZE, schunk=None,\n",
    "                                        filters=[0, 0, 0, 0, 1],\n",
    "                                        filters_meta=[0, 0, 0, 0, 0])\n",
    "\n",
    "dparams = cb2.blosc2_create_dparams(nthreads=4, schunk=None)"
   ]
  },
  {
   "cell_type": "markdown",
   "metadata": {},
   "source": [
    "### Datos sin transformación"
   ]
  },
  {
   "cell_type": "markdown",
   "metadata": {},
   "source": [
    "#### Compresión"
   ]
  },
  {
   "cell_type": "code",
   "execution_count": 86,
   "metadata": {},
   "outputs": [],
   "source": [
    "start = t.perf_counter()\n",
    "\n",
    "BSIZE = SIZE * src.dtype.itemsize\n",
    "\n",
    "schunk = cb2.blosc2_new_schunk(cparams, dparams)\n",
    "nchunks = cb2.blosc2_append_buffer(schunk, BSIZE, src)\n",
    "\n",
    "end = t.perf_counter()\n",
    "\n",
    "torig_com = end - start"
   ]
  },
  {
   "cell_type": "markdown",
   "metadata": {},
   "source": [
    "#### Descompresión"
   ]
  },
  {
   "cell_type": "code",
   "execution_count": 87,
   "metadata": {},
   "outputs": [],
   "source": [
    "start = t.perf_counter()\n",
    "\n",
    "dest = np.zeros(SIZE, dtype=np.int32).reshape(SHAPE)\n",
    "cb2.blosc2_decompress_chunk(schunk, 0, dest, BSIZE)\n",
    "\n",
    "res = dest[:,2,:]\n",
    "\n",
    "cb2.blosc2_free_schunk(schunk)\n",
    "\n",
    "end = t.perf_counter()\n",
    "\n",
    "torig_dec = end - start"
   ]
  },
  {
   "cell_type": "markdown",
   "metadata": {},
   "source": [
    "### Datos transformados"
   ]
  },
  {
   "cell_type": "markdown",
   "metadata": {},
   "source": [
    "#### Compresión"
   ]
  },
  {
   "cell_type": "code",
   "execution_count": 88,
   "metadata": {},
   "outputs": [],
   "source": [
    "start = t.perf_counter()\n",
    "\n",
    "schunk = cb2.blosc2_new_schunk(cparams, dparams)\n",
    "\n",
    "AUX_SIZE = np.prod(TSUBSHAPE)\n",
    "AUX_BSIZE = AUX_SIZE * srct.dtype.itemsize\n",
    "\n",
    "for i in range(TSHAPE[0]//TSUBSHAPE[0]* TSHAPE[1]//TSUBSHAPE[1] * TSHAPE[2]//TSUBSHAPE[2]):\n",
    "    aux = srct[i * AUX_SIZE:(i+1) * AUX_SIZE]\n",
    "    nchunks = cb2.blosc2_append_buffer(schunk, AUX_BSIZE, aux)\n",
    "end = t.perf_counter()\n",
    "\n",
    "ttran_com = end - start"
   ]
  },
  {
   "cell_type": "markdown",
   "metadata": {},
   "source": [
    "#### Descompresión"
   ]
  },
  {
   "cell_type": "code",
   "execution_count": 89,
   "metadata": {},
   "outputs": [],
   "source": [
    "start = t.perf_counter()\n",
    "\n",
    "SUBPL = (TSHAPE[0], TSUBSHAPE[1], TSHAPE[2])\n",
    "\n",
    "ind = td.obtainIndex((0,TSHAPE[0]), (2,3), (0,TSHAPE[2]), indexation, TSHAPE, TSUBSHAPE)\n",
    "\n",
    "dest = np.zeros(np.prod(SUBPL), dtype=np.int32).reshape(SUBPL)\n",
    "\n",
    "AUX_SIZE = np.prod(TSUBSHAPE)\n",
    "AUX_BSIZE = AUX_SIZE * srct.dtype.itemsize\n",
    "\n",
    "aux = np.zeros(AUX_SIZE, dtype=np.int32).reshape(TSUBSHAPE)\n",
    "\n",
    "for (i, j, k), n in ind:\n",
    "    cb2.blosc2_decompress_chunk(schunk, n, aux, AUX_BSIZE)\n",
    "    dest[i:i+TSUBSHAPE[0], 0:TSUBSHAPE[1], k:k+TSUBSHAPE[2]] = aux\n",
    "    \n",
    "res2 = dest[:SHAPE[0], 2%TSUBSHAPE[1], :SHAPE[2]]\n",
    "\n",
    "end = t.perf_counter()\n",
    "\n",
    "ttran_dec = end - start"
   ]
  },
  {
   "cell_type": "markdown",
   "metadata": {},
   "source": [
    "## Resultados"
   ]
  },
  {
   "cell_type": "code",
   "execution_count": 90,
   "metadata": {},
   "outputs": [
    {
     "name": "stdout",
     "output_type": "stream",
     "text": [
      "La compresión de los datos transformados es 0.011x más rápida que la original.\n",
      "La descompresión de los datos transformados es 2.601x más rápida que la original.\n"
     ]
    }
   ],
   "source": [
    "print('La compresión de los datos transformados es {:.3f}x más rápida que la original.'.format(torig_com/(ttran_com + ttran_tra)))\n",
    "\n",
    "print('La descompresión de los datos transformados es {:.3f}x más rápida que la original.'.format(torig_dec/ttran_dec))\n"
   ]
  },
  {
   "cell_type": "code",
   "execution_count": 91,
   "metadata": {},
   "outputs": [],
   "source": [
    "np.testing.assert_array_equal(res, res2)"
   ]
  },
  {
   "cell_type": "code",
   "execution_count": 92,
   "metadata": {},
   "outputs": [
    {
     "data": {
      "text/plain": [
       "array([[     512,      513,      514, ...,      765,      766,      767],\n",
       "       [   66048,    66049,    66050, ...,    66301,    66302,    66303],\n",
       "       [  131584,   131585,   131586, ...,   131837,   131838,   131839],\n",
       "       ...,\n",
       "       [16581120, 16581121, 16581122, ..., 16581373, 16581374, 16581375],\n",
       "       [16646656, 16646657, 16646658, ..., 16646909, 16646910, 16646911],\n",
       "       [16712192, 16712193, 16712194, ..., 16712445, 16712446, 16712447]],\n",
       "      dtype=int32)"
      ]
     },
     "execution_count": 92,
     "metadata": {},
     "output_type": "execute_result"
    }
   ],
   "source": [
    "res2"
   ]
  },
  {
   "cell_type": "code",
   "execution_count": 93,
   "metadata": {},
   "outputs": [
    {
     "data": {
      "text/plain": [
       "array([[     512,      513,      514, ...,      765,      766,      767],\n",
       "       [   66048,    66049,    66050, ...,    66301,    66302,    66303],\n",
       "       [  131584,   131585,   131586, ...,   131837,   131838,   131839],\n",
       "       ...,\n",
       "       [16581120, 16581121, 16581122, ..., 16581373, 16581374, 16581375],\n",
       "       [16646656, 16646657, 16646658, ..., 16646909, 16646910, 16646911],\n",
       "       [16712192, 16712193, 16712194, ..., 16712445, 16712446, 16712447]],\n",
       "      dtype=int32)"
      ]
     },
     "execution_count": 93,
     "metadata": {},
     "output_type": "execute_result"
    }
   ],
   "source": [
    "res"
   ]
  },
  {
   "cell_type": "code",
   "execution_count": null,
   "metadata": {},
   "outputs": [],
   "source": []
  }
 ],
 "metadata": {
  "kernelspec": {
   "display_name": "Python 3",
   "language": "python",
   "name": "python3"
  },
  "language_info": {
   "codemirror_mode": {
    "name": "ipython",
    "version": 3
   },
   "file_extension": ".py",
   "mimetype": "text/x-python",
   "name": "python",
   "nbconvert_exporter": "python",
   "pygments_lexer": "ipython3",
   "version": "3.6.4"
  }
 },
 "nbformat": 4,
 "nbformat_minor": 2
}
