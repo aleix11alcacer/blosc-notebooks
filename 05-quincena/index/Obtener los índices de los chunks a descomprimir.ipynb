{
 "cells": [
  {
   "cell_type": "code",
   "execution_count": 1,
   "metadata": {},
   "outputs": [],
   "source": [
    "import transformData as td\n",
    "import matplotlib.pyplot as plt\n",
    "import numpy as np\n",
    "import pycblosc2 as cb2\n",
    "import time as t"
   ]
  },
  {
   "cell_type": "markdown",
   "metadata": {},
   "source": [
    "## Función que calcula los índices"
   ]
  },
  {
   "cell_type": "code",
   "execution_count": 2,
   "metadata": {},
   "outputs": [],
   "source": [
    "def create_indexation(s, sb):\n",
    "    dic = {}\n",
    "    cont=0\n",
    "    for i in range(0, s[0], sb[0]):\n",
    "        for j in range(0, s[1], sb[1]):\n",
    "            for k in range(0, s[2], sb[2]):\n",
    "                \n",
    "                K = k + j*s[2] + i*s[1]*s[2]\n",
    "                dic[K]=cont\n",
    "                cont+=1\n",
    "    return dic"
   ]
  },
  {
   "cell_type": "code",
   "execution_count": 3,
   "metadata": {},
   "outputs": [],
   "source": [
    "def obtain_index(x, y, z, dic, s, sb):\n",
    "\n",
    "    ind = []\n",
    "    \n",
    "    for i in range(x[0]//32*32, x[1], sb[0]):\n",
    "        for j in range(y[0]//32*32, y[1], sb[1]):\n",
    "            for k in range(z[0]//32*32, z[1], sb[2]):\n",
    "                \n",
    "                K = k + j*s[2] + i*s[1]*s[2]\n",
    "                \n",
    "                ind.append(((i, j, k), dic[K]))\n",
    "                \n",
    "    return ind"
   ]
  },
  {
   "cell_type": "markdown",
   "metadata": {},
   "source": [
    "## Definición del conjunto de datos"
   ]
  },
  {
   "cell_type": "code",
   "execution_count": 4,
   "metadata": {},
   "outputs": [],
   "source": [
    "SHAPE = [512, 512, 512]\n",
    "\n",
    "SIZE = np.prod(SHAPE)\n",
    "\n",
    "src = np.arange(SIZE, dtype=np.int32).reshape(SHAPE)\n",
    "\n",
    "# TRANSFORMACIÓN\n",
    "\n",
    "start = t.perf_counter()\n",
    "\n",
    "SUBSHAPE = [32, 32, 32]\n",
    "\n",
    "srct = td.tData(src, SUBSHAPE, inverse=False).flatten()\n",
    "\n",
    "dic = create_indexation(SHAPE, SUBSHAPE)\n",
    "\n",
    "end = t.perf_counter()\n",
    "\n",
    "ttran_tra = end - start"
   ]
  },
  {
   "cell_type": "markdown",
   "metadata": {},
   "source": [
    "## Compresión y decompresión de los datos"
   ]
  },
  {
   "cell_type": "code",
   "execution_count": 5,
   "metadata": {},
   "outputs": [],
   "source": [
    "KB = 1024\n",
    "MB = 1024 * KB\n",
    "GB = 1024 * MB\n",
    "\n",
    "BLOSC_MAX_FILTERS = 5\n",
    "BLOSC_BLOCKSIZE = 16 * KB\n",
    "BLOSC_TYPESIZE = 4\n",
    "BLOSC_CODE = 5\n",
    "\n",
    "cparams = cb2.blosc2_create_cparams(compcode=BLOSC_CODE, clevel=5, use_dict=0, typesize=BLOSC_TYPESIZE,\n",
    "                                        nthreads=4, blocksize= BLOSC_BLOCKSIZE, schunk=None,\n",
    "                                        filters=[0, 0, 0, 0, 1],\n",
    "                                        filters_meta=[0, 0, 0, 0, 0])\n",
    "\n",
    "dparams = cb2.blosc2_create_dparams(nthreads=4, schunk=None)"
   ]
  },
  {
   "cell_type": "markdown",
   "metadata": {},
   "source": [
    "### Datos sin transformación"
   ]
  },
  {
   "cell_type": "code",
   "execution_count": 104,
   "metadata": {},
   "outputs": [],
   "source": [
    "start = t.perf_counter()\n",
    "\n",
    "BSIZE = SIZE * src.dtype.itemsize\n",
    "\n",
    "schunk = cb2.blosc2_new_schunk(cparams, dparams)\n",
    "nchunks = cb2.blosc2_append_buffer(schunk, BSIZE, src)\n",
    "\n",
    "end = t.perf_counter()\n",
    "\n",
    "torig_com = end - start"
   ]
  },
  {
   "cell_type": "code",
   "execution_count": 105,
   "metadata": {},
   "outputs": [],
   "source": [
    "start = t.perf_counter()\n",
    "\n",
    "dest = np.zeros(SIZE, dtype=np.int32).reshape(SHAPE)\n",
    "cb2.blosc2_decompress_chunk(schunk, 0, dest, BSIZE)\n",
    "\n",
    "res = dest[:,130,12]\n",
    "\n",
    "cb2.blosc2_free_schunk(schunk)\n",
    "\n",
    "end = t.perf_counter()\n",
    "\n",
    "torig_dec = end - start"
   ]
  },
  {
   "cell_type": "markdown",
   "metadata": {},
   "source": [
    "### Datos transformados"
   ]
  },
  {
   "cell_type": "code",
   "execution_count": 106,
   "metadata": {},
   "outputs": [],
   "source": [
    "start = t.perf_counter()\n",
    "\n",
    "schunk = cb2.blosc2_new_schunk(cparams, dparams)\n",
    "\n",
    "AUX_SIZE = np.prod(SUBSHAPE)\n",
    "AUX_BSIZE = AUX_SIZE * srct.dtype.itemsize\n",
    "\n",
    "for i in range(SHAPE[0]//SUBSHAPE[0] * SHAPE[1]//SUBSHAPE[1] * SHAPE[1]//SUBSHAPE[1]):\n",
    "    aux = srct[i * AUX_SIZE:(i+1) * AUX_SIZE]\n",
    "    nchunks = cb2.blosc2_append_buffer(schunk, AUX_BSIZE, aux)\n",
    "end = t.perf_counter()\n",
    "\n",
    "ttran_com = end - start"
   ]
  },
  {
   "cell_type": "code",
   "execution_count": 107,
   "metadata": {
    "scrolled": true
   },
   "outputs": [],
   "source": [
    "start = t.perf_counter()\n",
    "\n",
    "SUBPL = (SHAPE[0], SUBSHAPE[1], SHAPE[2])\n",
    "\n",
    "ind = obtain_index((0,SHAPE[0]), (130,131), (12,13), dic, SHAPE, SUBSHAPE)\n",
    "\n",
    "dest = np.zeros(np.prod(SUBPL), dtype=np.int32).reshape(SUBPL)\n",
    "\n",
    "AUX_SIZE = np.prod(SUBSHAPE)\n",
    "AUX_BSIZE = AUX_SIZE * srct.dtype.itemsize\n",
    "\n",
    "aux = np.zeros(AUX_SIZE, dtype=np.int32).reshape(SUBSHAPE)\n",
    "\n",
    "for (i, j, k), n in ind:\n",
    "    cb2.blosc2_decompress_chunk(schunk, n, aux, AUX_BSIZE)\n",
    "    dest[i:i+SUBSHAPE[0], 0:SUBSHAPE[1], k:k+SUBSHAPE[2]] = aux\n",
    "    \n",
    "res2 = dest[:, 130%SUBSHAPE[1], 12%SUBSHAPE[2]]\n",
    "\n",
    "end = t.perf_counter()\n",
    "\n",
    "ttran_dec = end - start"
   ]
  },
  {
   "cell_type": "markdown",
   "metadata": {},
   "source": [
    "## Resultados"
   ]
  },
  {
   "cell_type": "code",
   "execution_count": 108,
   "metadata": {},
   "outputs": [
    {
     "name": "stdout",
     "output_type": "stream",
     "text": [
      "La compresión de los datos transformados es 0.007x más rápida que la original.\n"
     ]
    }
   ],
   "source": [
    "print('La compresión de los datos transformados es {:.3f}x más rápida que la original.'.format(torig_com/(ttran_com + ttran_tra)))"
   ]
  },
  {
   "cell_type": "code",
   "execution_count": 109,
   "metadata": {},
   "outputs": [
    {
     "name": "stdout",
     "output_type": "stream",
     "text": [
      "La descompresión de los datos transformados es 38.292x más rápida que la original.\n"
     ]
    }
   ],
   "source": [
    "print('La descompresión de los datos transformados es {:.3f}x más rápida que la original.'.format(torig_dec/ttran_dec))"
   ]
  },
  {
   "cell_type": "code",
   "execution_count": 110,
   "metadata": {},
   "outputs": [],
   "source": [
    "np.testing.assert_array_equal(res, res2)"
   ]
  },
  {
   "cell_type": "code",
   "execution_count": 111,
   "metadata": {},
   "outputs": [
    {
     "name": "stdout",
     "output_type": "stream",
     "text": [
      "0.4395952009999746\n"
     ]
    }
   ],
   "source": [
    "print(torig_dec)"
   ]
  },
  {
   "cell_type": "code",
   "execution_count": 112,
   "metadata": {},
   "outputs": [
    {
     "name": "stdout",
     "output_type": "stream",
     "text": [
      "0.01147996100007731\n"
     ]
    }
   ],
   "source": [
    "print(ttran_dec)"
   ]
  },
  {
   "cell_type": "code",
   "execution_count": null,
   "metadata": {},
   "outputs": [],
   "source": []
  }
 ],
 "metadata": {
  "kernelspec": {
   "display_name": "Python 3",
   "language": "python",
   "name": "python3"
  },
  "language_info": {
   "codemirror_mode": {
    "name": "ipython",
    "version": 3
   },
   "file_extension": ".py",
   "mimetype": "text/x-python",
   "name": "python",
   "nbconvert_exporter": "python",
   "pygments_lexer": "ipython3",
   "version": "3.6.4"
  }
 },
 "nbformat": 4,
 "nbformat_minor": 2
}
