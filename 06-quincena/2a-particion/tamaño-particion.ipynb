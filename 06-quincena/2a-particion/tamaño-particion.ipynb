{
 "cells": [
  {
   "cell_type": "markdown",
   "metadata": {},
   "source": [
    "# Calculando el tamaño ideal de las particiones"
   ]
  },
  {
   "cell_type": "markdown",
   "metadata": {},
   "source": [
    "En este notebook se va a analizar el rendimiento del algoritmo dependiendo del tamaño de la partición.\n",
    "\n",
    "Para ello se va a crear un conjunto de datos y se va a comprimir y descompirmir usando diferentes tamaños de particiones.\n",
    "\n",
    "Finalmente, se va a hacer una gráfica con los tiempos de decompresión en cada partición."
   ]
  },
  {
   "cell_type": "markdown",
   "metadata": {},
   "source": [
    "## Paquetes necesarios"
   ]
  },
  {
   "cell_type": "code",
   "execution_count": 1,
   "metadata": {},
   "outputs": [],
   "source": [
    "import transformData as td\n",
    "import matplotlib.pyplot as plt\n",
    "import numpy as np\n",
    "import time as t\n",
    "from math import ceil"
   ]
  },
  {
   "cell_type": "markdown",
   "metadata": {},
   "source": [
    "## Definición del conjunto de datos"
   ]
  },
  {
   "cell_type": "markdown",
   "metadata": {},
   "source": [
    "### Datos sin transformación"
   ]
  },
  {
   "cell_type": "markdown",
   "metadata": {},
   "source": [
    "El conjunto de datos que se va a usar será de 4 dimensiones de 128 elementos cada dimensión. Por tanto habrá $128^4 = 268.435.456$ elementos."
   ]
  },
  {
   "cell_type": "code",
   "execution_count": 2,
   "metadata": {},
   "outputs": [],
   "source": [
    "SHAPE = [64, 64, 64, 64]\n",
    "\n",
    "SIZE = np.prod(SHAPE)\n",
    "\n",
    "src = np.arange(SIZE, dtype=np.int32).reshape(SHAPE)\n",
    "\n",
    "ITEMSIZE = src.itemsize\n",
    "\n",
    "DTYPE = src.dtype"
   ]
  },
  {
   "cell_type": "markdown",
   "metadata": {},
   "source": [
    "### Calculando los tiempos de decompresión"
   ]
  },
  {
   "cell_type": "markdown",
   "metadata": {},
   "source": [
    "El tamaño de las particiones tiene que ser más pequeño que el del conjunto de datos. En este caso, las particiones son de 16 elementos por cada dimensión lo que resulta que cada partición tendrá $16^4=65.536$ elementos."
   ]
  },
  {
   "cell_type": "code",
   "execution_count": 3,
   "metadata": {
    "scrolled": false
   },
   "outputs": [],
   "source": [
    "y = []\n",
    "labels = []\n",
    "\n",
    "ant_part = -1\n",
    "\n",
    "div = 0\n",
    "\n",
    "while True:\n",
    "    \n",
    "    PART_SHAPE = [ceil(min(SHAPE)/1.3**div)] * len(SHAPE)\n",
    "    \n",
    "    if PART_SHAPE[0] != ant_part:\n",
    "        src_part = td.tData(src, PART_SHAPE, inverse=False)\n",
    "\n",
    "        TSHAPE = src_part.shape\n",
    "\n",
    "        # Compresión\n",
    "\n",
    "        start = t.perf_counter()\n",
    "        dest_trans = td.compress(src_part, PART_SHAPE)\n",
    "        end = t.perf_counter()\n",
    "\n",
    "        ct_t = end - start\n",
    "\n",
    "        # Decompresión\n",
    "\n",
    "        t_total = []\n",
    "        \n",
    "        for _ in range(5):\n",
    "            start = t.perf_counter()\n",
    "            res_trans = td.decompress_trans(dest_trans, SHAPE, TSHAPE, PART_SHAPE, a=36, c=55)\n",
    "            end = t.perf_counter()\n",
    "\n",
    "            dt_t = end - start\n",
    "            \n",
    "            t_total.append(dt_t)\n",
    "        \n",
    "        y.append(min(t_total))\n",
    "        labels.append(ceil(min(SHAPE)/1.3**div))\n",
    "\n",
    "        ant_aprt = PART_SHAPE[0]\n",
    "        \n",
    "        if y[-1] > y[0] and div > 5:\n",
    "            break\n",
    "    \n",
    "    div += 1\n",
    "    "
   ]
  },
  {
   "cell_type": "markdown",
   "metadata": {},
   "source": [
    "## Resultados y conclusiones"
   ]
  },
  {
   "cell_type": "code",
   "execution_count": 5,
   "metadata": {},
   "outputs": [
    {
     "data": {
      "image/png": "[encoded data removed]",
      "text/plain": [
       "<matplotlib.figure.Figure at 0x10d8caa58>"
      ]
     },
     "metadata": {},
     "output_type": "display_data"
    }
   ],
   "source": [
    "plt.plot(np.arange(len(y)), y)\n",
    "plt.xticks(np.arange(len(y)), labels)\n",
    "plt.ylabel('Tiempo de decompresión')\n",
    "plt.xlabel('Tamaño de la partición')\n",
    "plt.show()"
   ]
  }
 ],
 "metadata": {
  "kernelspec": {
   "display_name": "Python 3",
   "language": "python",
   "name": "python3"
  },
  "language_info": {
   "codemirror_mode": {
    "name": "ipython",
    "version": 3
   },
   "file_extension": ".py",
   "mimetype": "text/x-python",
   "name": "python",
   "nbconvert_exporter": "python",
   "pygments_lexer": "ipython3",
   "version": "3.6.4"
  }
 },
 "nbformat": 4,
 "nbformat_minor": 2
}
