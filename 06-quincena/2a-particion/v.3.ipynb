{
 "cells": [
  {
   "cell_type": "markdown",
   "metadata": {},
   "source": [
    "# Testeando el padData y el createIndexation"
   ]
  },
  {
   "cell_type": "markdown",
   "metadata": {},
   "source": [
    "## Paquetes necesarios"
   ]
  },
  {
   "cell_type": "code",
   "execution_count": 1,
   "metadata": {},
   "outputs": [],
   "source": [
    "import transformData as td\n",
    "import matplotlib.pyplot as plt\n",
    "import numpy as np\n",
    "import pycblosc2 as cb2\n",
    "import time as t"
   ]
  },
  {
   "cell_type": "markdown",
   "metadata": {},
   "source": [
    "## Definición del conjunto de datos"
   ]
  },
  {
   "cell_type": "markdown",
   "metadata": {},
   "source": [
    "### Datos sin transformación"
   ]
  },
  {
   "cell_type": "code",
   "execution_count": 27,
   "metadata": {},
   "outputs": [],
   "source": [
    "SHAPE = [8, 8, 8]\n",
    "\n",
    "SIZE = np.prod(SHAPE)\n",
    "\n",
    "src = np.arange(SIZE, dtype=np.int32).reshape(SHAPE)\n",
    "\n",
    "ITEMSIZE = src.itemsize\n",
    "\n",
    "DTYPE = src.dtype"
   ]
  },
  {
   "cell_type": "markdown",
   "metadata": {},
   "source": [
    "### Datos transformados"
   ]
  },
  {
   "cell_type": "code",
   "execution_count": 28,
   "metadata": {
    "scrolled": true
   },
   "outputs": [
    {
     "name": "stdout",
     "output_type": "stream",
     "text": [
      "empieza aquí\n"
     ]
    }
   ],
   "source": [
    "PART_SHAPE = [4, 3, 4]\n",
    "\n",
    "src_part, indexation = td.tData(src, PART_SHAPE, inverse=False)\n",
    "\n",
    "TSHAPE = src_part.shape"
   ]
  },
  {
   "cell_type": "markdown",
   "metadata": {},
   "source": [
    "## Compresión y descompresión de los datos"
   ]
  },
  {
   "cell_type": "markdown",
   "metadata": {},
   "source": [
    "### Compresión"
   ]
  },
  {
   "cell_type": "code",
   "execution_count": 29,
   "metadata": {},
   "outputs": [],
   "source": [
    "dest = td.compress(src, PART_SHAPE)\n",
    "dest_trans = td.compress(src_part, PART_SHAPE)"
   ]
  },
  {
   "cell_type": "markdown",
   "metadata": {},
   "source": [
    "### Descompresión"
   ]
  },
  {
   "cell_type": "code",
   "execution_count": 30,
   "metadata": {
    "scrolled": false
   },
   "outputs": [],
   "source": [
    "res = td.decompress(dest, SHAPE, ITEMSIZE, DTYPE)\n",
    "res_trans = td.decompress_trans(dest_trans, indexation, DTYPE, TSHAPE, PART_SHAPE, b=6)\n",
    "res_c = td.test_compress(dest_trans, TSHAPE, PART_SHAPE, b=6)"
   ]
  },
  {
   "cell_type": "code",
   "execution_count": 31,
   "metadata": {},
   "outputs": [
    {
     "data": {
      "text/plain": [
       "array([[[ 48,  49,  50,  51,  52,  53,  54,  55],\n",
       "        [ 56,  57,  58,  59,  60,  61,  62,  63],\n",
       "        [  0,   0,   0,   0,   0,   0,   0,   0]],\n",
       "\n",
       "       [[112, 113, 114, 115, 116, 117, 118, 119],\n",
       "        [120, 121, 122, 123, 124, 125, 126, 127],\n",
       "        [  0,   0,   0,   0,   0,   0,   0,   0]],\n",
       "\n",
       "       [[176, 177, 178, 179, 180, 181, 182, 183],\n",
       "        [184, 185, 186, 187, 188, 189, 190, 191],\n",
       "        [  0,   0,   0,   0,   0,   0,   0,   0]],\n",
       "\n",
       "       [[240, 241, 242, 243, 244, 245, 246, 247],\n",
       "        [248, 249, 250, 251, 252, 253, 254, 255],\n",
       "        [  0,   0,   0,   0,   0,   0,   0,   0]],\n",
       "\n",
       "       [[304, 305, 306, 307, 308, 309, 310, 311],\n",
       "        [312, 313, 314, 315, 316, 317, 318, 319],\n",
       "        [  0,   0,   0,   0,   0,   0,   0,   0]],\n",
       "\n",
       "       [[368, 369, 370, 371, 372, 373, 374, 375],\n",
       "        [376, 377, 378, 379, 380, 381, 382, 383],\n",
       "        [  0,   0,   0,   0,   0,   0,   0,   0]],\n",
       "\n",
       "       [[432, 433, 434, 435, 436, 437, 438, 439],\n",
       "        [440, 441, 442, 443, 444, 445, 446, 447],\n",
       "        [  0,   0,   0,   0,   0,   0,   0,   0]],\n",
       "\n",
       "       [[496, 497, 498, 499, 500, 501, 502, 503],\n",
       "        [504, 505, 506, 507, 508, 509, 510, 511],\n",
       "        [  0,   0,   0,   0,   0,   0,   0,   0]]], dtype=int32)"
      ]
     },
     "execution_count": 31,
     "metadata": {},
     "output_type": "execute_result"
    }
   ],
   "source": [
    "res_trans"
   ]
  },
  {
   "cell_type": "code",
   "execution_count": 32,
   "metadata": {
    "scrolled": false
   },
   "outputs": [
    {
     "data": {
      "text/plain": [
       "array([[[ 48,  49,  50,  51,  52,  53,  54,  55],\n",
       "        [ 56,  57,  58,  59,  60,  61,  62,  63],\n",
       "        [  0,   0,   0,   0,   0,   0,   0,   0]],\n",
       "\n",
       "       [[112, 113, 114, 115, 116, 117, 118, 119],\n",
       "        [120, 121, 122, 123, 124, 125, 126, 127],\n",
       "        [  0,   0,   0,   0,   0,   0,   0,   0]],\n",
       "\n",
       "       [[176, 177, 178, 179, 180, 181, 182, 183],\n",
       "        [184, 185, 186, 187, 188, 189, 190, 191],\n",
       "        [  0,   0,   0,   0,   0,   0,   0,   0]],\n",
       "\n",
       "       [[240, 241, 242, 243, 244, 245, 246, 247],\n",
       "        [248, 249, 250, 251, 252, 253, 254, 255],\n",
       "        [  0,   0,   0,   0,   0,   0,   0,   0]],\n",
       "\n",
       "       [[304, 305, 306, 307, 308, 309, 310, 311],\n",
       "        [312, 313, 314, 315, 316, 317, 318, 319],\n",
       "        [  0,   0,   0,   0,   0,   0,   0,   0]],\n",
       "\n",
       "       [[368, 369, 370, 371, 372, 373, 374, 375],\n",
       "        [376, 377, 378, 379, 380, 381, 382, 383],\n",
       "        [  0,   0,   0,   0,   0,   0,   0,   0]],\n",
       "\n",
       "       [[432, 433, 434, 435, 436, 437, 438, 439],\n",
       "        [440, 441, 442, 443, 444, 445, 446, 447],\n",
       "        [  0,   0,   0,   0,   0,   0,   0,   0]],\n",
       "\n",
       "       [[496, 497, 498, 499, 500, 501, 502, 503],\n",
       "        [504, 505, 506, 507, 508, 509, 510, 511],\n",
       "        [  0,   0,   0,   0,   0,   0,   0,   0]]], dtype=int32)"
      ]
     },
     "execution_count": 32,
     "metadata": {},
     "output_type": "execute_result"
    }
   ],
   "source": [
    "res_c"
   ]
  },
  {
   "cell_type": "code",
   "execution_count": 33,
   "metadata": {},
   "outputs": [],
   "source": [
    "np.testing.assert_array_equal(res_trans, res_c)"
   ]
  },
  {
   "cell_type": "code",
   "execution_count": null,
   "metadata": {},
   "outputs": [],
   "source": []
  }
 ],
 "metadata": {
  "kernelspec": {
   "display_name": "Python 3",
   "language": "python",
   "name": "python3"
  },
  "language_info": {
   "codemirror_mode": {
    "name": "ipython",
    "version": 3
   },
   "file_extension": ".py",
   "mimetype": "text/x-python",
   "name": "python",
   "nbconvert_exporter": "python",
   "pygments_lexer": "ipython3",
   "version": "3.6.4"
  }
 },
 "nbformat": 4,
 "nbformat_minor": 2
}
