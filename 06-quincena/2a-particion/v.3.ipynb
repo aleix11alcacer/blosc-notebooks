{
 "cells": [
  {
   "cell_type": "markdown",
   "metadata": {},
   "source": [
    "# Testeando el padData y el createIndexation"
   ]
  },
  {
   "cell_type": "markdown",
   "metadata": {},
   "source": [
    "## Paquetes necesarios"
   ]
  },
  {
   "cell_type": "code",
   "execution_count": 1,
   "metadata": {},
   "outputs": [],
   "source": [
    "import transformData as td\n",
    "import matplotlib.pyplot as plt\n",
    "import numpy as np\n",
    "import pycblosc2 as cb2\n",
    "import time as t"
   ]
  },
  {
   "cell_type": "markdown",
   "metadata": {},
   "source": [
    "## Definición del conjunto de datos"
   ]
  },
  {
   "cell_type": "markdown",
   "metadata": {},
   "source": [
    "### Datos sin transformación"
   ]
  },
  {
   "cell_type": "code",
   "execution_count": 2,
   "metadata": {},
   "outputs": [],
   "source": [
    "SHAPE = [16, 16, 16]\n",
    "\n",
    "SIZE = np.prod(SHAPE)\n",
    "\n",
    "src = np.arange(SIZE, dtype=np.int32).reshape(SHAPE)\n",
    "\n",
    "ITEMSIZE = src.itemsize\n",
    "\n",
    "DTYPE = src.dtype"
   ]
  },
  {
   "cell_type": "markdown",
   "metadata": {},
   "source": [
    "### Datos transformados"
   ]
  },
  {
   "cell_type": "code",
   "execution_count": 3,
   "metadata": {
    "scrolled": true
   },
   "outputs": [],
   "source": [
    "PART_SHAPE = [7, 11, 2]\n",
    "\n",
    "src_part, indexation = td.tData(src, PART_SHAPE, inverse=False)\n",
    "\n",
    "TSHAPE = src_part.shape"
   ]
  },
  {
   "cell_type": "markdown",
   "metadata": {},
   "source": [
    "## Compresión y descompresión de los datos"
   ]
  },
  {
   "cell_type": "markdown",
   "metadata": {},
   "source": [
    "### Compresión"
   ]
  },
  {
   "cell_type": "code",
   "execution_count": 4,
   "metadata": {},
   "outputs": [],
   "source": [
    "dest = td.compress(src, PART_SHAPE)\n",
    "dest_trans = td.compress(src_part, PART_SHAPE)"
   ]
  },
  {
   "cell_type": "markdown",
   "metadata": {},
   "source": [
    "### Descompresión"
   ]
  },
  {
   "cell_type": "code",
   "execution_count": 5,
   "metadata": {},
   "outputs": [],
   "source": [
    "res = td.decompress(dest, SHAPE, ITEMSIZE, DTYPE)\n",
    "res_trans = td.decompress_trans(dest_trans, indexation, DTYPE, SHAPE, TSHAPE, PART_SHAPE, a=5)"
   ]
  },
  {
   "cell_type": "code",
   "execution_count": 6,
   "metadata": {},
   "outputs": [
    {
     "data": {
      "text/plain": [
       "array([[[   0,    1,    2, ...,   13,   14,   15],\n",
       "        [  16,   17,   18, ...,   29,   30,   31],\n",
       "        [  32,   33,   34, ...,   45,   46,   47],\n",
       "        ...,\n",
       "        [   0,    0,    0, ...,    0,    0,    0],\n",
       "        [   0,    0,    0, ...,    0,    0,    0],\n",
       "        [   0,    0,    0, ...,    0,    0,    0]],\n",
       "\n",
       "       [[ 256,  257,  258, ...,  269,  270,  271],\n",
       "        [ 272,  273,  274, ...,  285,  286,  287],\n",
       "        [ 288,  289,  290, ...,  301,  302,  303],\n",
       "        ...,\n",
       "        [   0,    0,    0, ...,    0,    0,    0],\n",
       "        [   0,    0,    0, ...,    0,    0,    0],\n",
       "        [   0,    0,    0, ...,    0,    0,    0]],\n",
       "\n",
       "       [[ 512,  513,  514, ...,  525,  526,  527],\n",
       "        [ 528,  529,  530, ...,  541,  542,  543],\n",
       "        [ 544,  545,  546, ...,  557,  558,  559],\n",
       "        ...,\n",
       "        [   0,    0,    0, ...,    0,    0,    0],\n",
       "        [   0,    0,    0, ...,    0,    0,    0],\n",
       "        [   0,    0,    0, ...,    0,    0,    0]],\n",
       "\n",
       "       ...,\n",
       "\n",
       "       [[1024, 1025, 1026, ..., 1037, 1038, 1039],\n",
       "        [1040, 1041, 1042, ..., 1053, 1054, 1055],\n",
       "        [1056, 1057, 1058, ..., 1069, 1070, 1071],\n",
       "        ...,\n",
       "        [   0,    0,    0, ...,    0,    0,    0],\n",
       "        [   0,    0,    0, ...,    0,    0,    0],\n",
       "        [   0,    0,    0, ...,    0,    0,    0]],\n",
       "\n",
       "       [[1280, 1281, 1282, ..., 1293, 1294, 1295],\n",
       "        [1296, 1297, 1298, ..., 1309, 1310, 1311],\n",
       "        [1312, 1313, 1314, ..., 1325, 1326, 1327],\n",
       "        ...,\n",
       "        [   0,    0,    0, ...,    0,    0,    0],\n",
       "        [   0,    0,    0, ...,    0,    0,    0],\n",
       "        [   0,    0,    0, ...,    0,    0,    0]],\n",
       "\n",
       "       [[1536, 1537, 1538, ..., 1549, 1550, 1551],\n",
       "        [1552, 1553, 1554, ..., 1565, 1566, 1567],\n",
       "        [1568, 1569, 1570, ..., 1581, 1582, 1583],\n",
       "        ...,\n",
       "        [   0,    0,    0, ...,    0,    0,    0],\n",
       "        [   0,    0,    0, ...,    0,    0,    0],\n",
       "        [   0,    0,    0, ...,    0,    0,    0]]], dtype=int32)"
      ]
     },
     "execution_count": 6,
     "metadata": {},
     "output_type": "execute_result"
    }
   ],
   "source": [
    "res_trans"
   ]
  },
  {
   "cell_type": "code",
   "execution_count": 7,
   "metadata": {},
   "outputs": [
    {
     "data": {
      "text/plain": [
       "array([[[   0,    1,    2, ...,   13,   14,   15],\n",
       "        [  16,   17,   18, ...,   29,   30,   31],\n",
       "        [  32,   33,   34, ...,   45,   46,   47],\n",
       "        ...,\n",
       "        [ 208,  209,  210, ...,  221,  222,  223],\n",
       "        [ 224,  225,  226, ...,  237,  238,  239],\n",
       "        [ 240,  241,  242, ...,  253,  254,  255]],\n",
       "\n",
       "       [[ 256,  257,  258, ...,  269,  270,  271],\n",
       "        [ 272,  273,  274, ...,  285,  286,  287],\n",
       "        [ 288,  289,  290, ...,  301,  302,  303],\n",
       "        ...,\n",
       "        [ 464,  465,  466, ...,  477,  478,  479],\n",
       "        [ 480,  481,  482, ...,  493,  494,  495],\n",
       "        [ 496,  497,  498, ...,  509,  510,  511]],\n",
       "\n",
       "       [[ 512,  513,  514, ...,  525,  526,  527],\n",
       "        [ 528,  529,  530, ...,  541,  542,  543],\n",
       "        [ 544,  545,  546, ...,  557,  558,  559],\n",
       "        ...,\n",
       "        [ 720,  721,  722, ...,  733,  734,  735],\n",
       "        [ 736,  737,  738, ...,  749,  750,  751],\n",
       "        [ 752,  753,  754, ...,  765,  766,  767]],\n",
       "\n",
       "       ...,\n",
       "\n",
       "       [[1024, 1025, 1026, ..., 1037, 1038, 1039],\n",
       "        [1040, 1041, 1042, ..., 1053, 1054, 1055],\n",
       "        [1056, 1057, 1058, ..., 1069, 1070, 1071],\n",
       "        ...,\n",
       "        [1232, 1233, 1234, ..., 1245, 1246, 1247],\n",
       "        [1248, 1249, 1250, ..., 1261, 1262, 1263],\n",
       "        [1264, 1265, 1266, ..., 1277, 1278, 1279]],\n",
       "\n",
       "       [[1280, 1281, 1282, ..., 1293, 1294, 1295],\n",
       "        [1296, 1297, 1298, ..., 1309, 1310, 1311],\n",
       "        [1312, 1313, 1314, ..., 1325, 1326, 1327],\n",
       "        ...,\n",
       "        [1488, 1489, 1490, ..., 1501, 1502, 1503],\n",
       "        [1504, 1505, 1506, ..., 1517, 1518, 1519],\n",
       "        [1520, 1521, 1522, ..., 1533, 1534, 1535]],\n",
       "\n",
       "       [[1536, 1537, 1538, ..., 1549, 1550, 1551],\n",
       "        [1552, 1553, 1554, ..., 1565, 1566, 1567],\n",
       "        [1568, 1569, 1570, ..., 1581, 1582, 1583],\n",
       "        ...,\n",
       "        [1744, 1745, 1746, ..., 1757, 1758, 1759],\n",
       "        [1760, 1761, 1762, ..., 1773, 1774, 1775],\n",
       "        [1776, 1777, 1778, ..., 1789, 1790, 1791]]], dtype=int32)"
      ]
     },
     "execution_count": 7,
     "metadata": {},
     "output_type": "execute_result"
    }
   ],
   "source": [
    "res[0:7,:,:]"
   ]
  },
  {
   "cell_type": "code",
   "execution_count": null,
   "metadata": {},
   "outputs": [],
   "source": []
  }
 ],
 "metadata": {
  "kernelspec": {
   "display_name": "Python 3",
   "language": "python",
   "name": "python3"
  },
  "language_info": {
   "codemirror_mode": {
    "name": "ipython",
    "version": 3
   },
   "file_extension": ".py",
   "mimetype": "text/x-python",
   "name": "python",
   "nbconvert_exporter": "python",
   "pygments_lexer": "ipython3",
   "version": "3.6.4"
  }
 },
 "nbformat": 4,
 "nbformat_minor": 2
}
