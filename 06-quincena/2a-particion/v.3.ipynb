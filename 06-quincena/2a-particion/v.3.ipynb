{
 "cells": [
  {
   "cell_type": "markdown",
   "metadata": {},
   "source": [
    "# Testeando el padData y el createIndexation"
   ]
  },
  {
   "cell_type": "markdown",
   "metadata": {},
   "source": [
    "## Paquetes necesarios"
   ]
  },
  {
   "cell_type": "code",
   "execution_count": 1,
   "metadata": {},
   "outputs": [],
   "source": [
    "import transformData as td\n",
    "import matplotlib.pyplot as plt\n",
    "import numpy as np\n",
    "import pycblosc2 as cb2\n",
    "import time as t"
   ]
  },
  {
   "cell_type": "markdown",
   "metadata": {},
   "source": [
    "## Definición del conjunto de datos"
   ]
  },
  {
   "cell_type": "markdown",
   "metadata": {},
   "source": [
    "### Datos sin transformación"
   ]
  },
  {
   "cell_type": "code",
   "execution_count": 66,
   "metadata": {},
   "outputs": [],
   "source": [
    "SHAPE = [16, 16, 16]\n",
    "\n",
    "SIZE = np.prod(SHAPE)\n",
    "\n",
    "src = np.arange(SIZE, dtype=np.int32).reshape(SHAPE)\n",
    "\n",
    "ITEMSIZE = src.itemsize\n",
    "\n",
    "DTYPE = src.dtype"
   ]
  },
  {
   "cell_type": "markdown",
   "metadata": {},
   "source": [
    "### Datos transformados"
   ]
  },
  {
   "cell_type": "code",
   "execution_count": 67,
   "metadata": {
    "scrolled": false
   },
   "outputs": [],
   "source": [
    "PART_SHAPE = [4, 4, 4]\n",
    "\n",
    "src_part, indexation = td.tData(src, PART_SHAPE, inverse=False)\n",
    "\n",
    "TSHAPE = src_part.shape"
   ]
  },
  {
   "cell_type": "markdown",
   "metadata": {},
   "source": [
    "## Compresión y descompresión de los datos"
   ]
  },
  {
   "cell_type": "markdown",
   "metadata": {},
   "source": [
    "### Compresión"
   ]
  },
  {
   "cell_type": "code",
   "execution_count": 68,
   "metadata": {},
   "outputs": [],
   "source": [
    "dest = td.compress(src, PART_SHAPE)\n",
    "dest_trans = td.compress(src_part, PART_SHAPE)"
   ]
  },
  {
   "cell_type": "markdown",
   "metadata": {},
   "source": [
    "### Descompresión"
   ]
  },
  {
   "cell_type": "code",
   "execution_count": 69,
   "metadata": {},
   "outputs": [],
   "source": [
    "res = td.decompress(dest, SHAPE, ITEMSIZE, DTYPE)\n",
    "res_trans = td.decompress_trans(dest_trans, indexation, DTYPE, SHAPE, TSHAPE, PART_SHAPE)"
   ]
  }
 ],
 "metadata": {
  "kernelspec": {
   "display_name": "Python 3",
   "language": "python",
   "name": "python3"
  },
  "language_info": {
   "codemirror_mode": {
    "name": "ipython",
    "version": 3
   },
   "file_extension": ".py",
   "mimetype": "text/x-python",
   "name": "python",
   "nbconvert_exporter": "python",
   "pygments_lexer": "ipython3",
   "version": "3.6.4"
  }
 },
 "nbformat": 4,
 "nbformat_minor": 2
}
