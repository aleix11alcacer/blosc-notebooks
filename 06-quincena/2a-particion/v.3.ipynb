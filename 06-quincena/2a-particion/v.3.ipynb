{
 "cells": [
  {
   "cell_type": "markdown",
   "metadata": {},
   "source": [
    "# Testeando el padData y el createIndexation"
   ]
  },
  {
   "cell_type": "markdown",
   "metadata": {},
   "source": [
    "## Paquetes necesarios"
   ]
  },
  {
   "cell_type": "code",
   "execution_count": 1,
   "metadata": {},
   "outputs": [],
   "source": [
    "import transformData as td\n",
    "import matplotlib.pyplot as plt\n",
    "import numpy as np\n",
    "import pycblosc2 as cb2\n",
    "import time as t"
   ]
  },
  {
   "cell_type": "markdown",
   "metadata": {},
   "source": [
    "## Definición del conjunto de datos"
   ]
  },
  {
   "cell_type": "markdown",
   "metadata": {},
   "source": [
    "### Datos sin transformación"
   ]
  },
  {
   "cell_type": "code",
   "execution_count": 2,
   "metadata": {},
   "outputs": [],
   "source": [
    "SHAPE = [8, 8, 8]\n",
    "\n",
    "SIZE = np.prod(SHAPE)\n",
    "\n",
    "src = np.arange(SIZE, dtype=np.int32).reshape(SHAPE)\n",
    "\n",
    "ITEMSIZE = src.itemsize\n",
    "\n",
    "DTYPE = src.dtype"
   ]
  },
  {
   "cell_type": "markdown",
   "metadata": {},
   "source": [
    "### Datos transformados"
   ]
  },
  {
   "cell_type": "code",
   "execution_count": 3,
   "metadata": {
    "scrolled": true
   },
   "outputs": [
    {
     "name": "stdout",
     "output_type": "stream",
     "text": [
      "empieza aquí\n"
     ]
    }
   ],
   "source": [
    "PART_SHAPE = [4, 4, 4]\n",
    "\n",
    "src_part, indexation = td.tData(src, PART_SHAPE, inverse=False)\n",
    "\n",
    "TSHAPE = src_part.shape"
   ]
  },
  {
   "cell_type": "markdown",
   "metadata": {},
   "source": [
    "## Compresión y descompresión de los datos"
   ]
  },
  {
   "cell_type": "markdown",
   "metadata": {},
   "source": [
    "### Compresión"
   ]
  },
  {
   "cell_type": "code",
   "execution_count": 4,
   "metadata": {},
   "outputs": [],
   "source": [
    "dest = td.compress(src, PART_SHAPE)\n",
    "dest_trans = td.compress(src_part, PART_SHAPE)"
   ]
  },
  {
   "cell_type": "markdown",
   "metadata": {},
   "source": [
    "### Descompresión"
   ]
  },
  {
   "cell_type": "code",
   "execution_count": 5,
   "metadata": {},
   "outputs": [
    {
     "name": "stdout",
     "output_type": "stream",
     "text": [
      "256\n"
     ]
    }
   ],
   "source": [
    "res = td.decompress(dest, SHAPE, ITEMSIZE, DTYPE)\n",
    "res_trans = td.decompress_trans(dest_trans, indexation, DTYPE, SHAPE, TSHAPE, PART_SHAPE, a=5)"
   ]
  },
  {
   "cell_type": "code",
   "execution_count": 6,
   "metadata": {},
   "outputs": [
    {
     "data": {
      "text/plain": [
       "{0: 0, 4: 1, 32: 2, 36: 3, 256: 4, 260: 5, 288: 6, 292: 7}"
      ]
     },
     "execution_count": 6,
     "metadata": {},
     "output_type": "execute_result"
    }
   ],
   "source": [
    "indexation"
   ]
  },
  {
   "cell_type": "code",
   "execution_count": 7,
   "metadata": {},
   "outputs": [
    {
     "data": {
      "text/plain": [
       "array([[[256, 257, 258, 259, 260, 261, 262, 263],\n",
       "        [264, 265, 266, 267, 268, 269, 270, 271],\n",
       "        [272, 273, 274, 275, 276, 277, 278, 279],\n",
       "        [280, 281, 282, 283, 284, 285, 286, 287],\n",
       "        [288, 289, 290, 291, 292, 293, 294, 295],\n",
       "        [296, 297, 298, 299, 300, 301, 302, 303],\n",
       "        [304, 305, 306, 307, 308, 309, 310, 311],\n",
       "        [312, 313, 314, 315, 316, 317, 318, 319]],\n",
       "\n",
       "       [[320, 321, 322, 323, 324, 325, 326, 327],\n",
       "        [328, 329, 330, 331, 332, 333, 334, 335],\n",
       "        [336, 337, 338, 339, 340, 341, 342, 343],\n",
       "        [344, 345, 346, 347, 348, 349, 350, 351],\n",
       "        [352, 353, 354, 355, 356, 357, 358, 359],\n",
       "        [360, 361, 362, 363, 364, 365, 366, 367],\n",
       "        [368, 369, 370, 371, 372, 373, 374, 375],\n",
       "        [376, 377, 378, 379, 380, 381, 382, 383]],\n",
       "\n",
       "       [[384, 385, 386, 387, 388, 389, 390, 391],\n",
       "        [392, 393, 394, 395, 396, 397, 398, 399],\n",
       "        [400, 401, 402, 403, 404, 405, 406, 407],\n",
       "        [408, 409, 410, 411, 412, 413, 414, 415],\n",
       "        [416, 417, 418, 419, 420, 421, 422, 423],\n",
       "        [424, 425, 426, 427, 428, 429, 430, 431],\n",
       "        [432, 433, 434, 435, 436, 437, 438, 439],\n",
       "        [440, 441, 442, 443, 444, 445, 446, 447]],\n",
       "\n",
       "       [[448, 449, 450, 451, 452, 453, 454, 455],\n",
       "        [456, 457, 458, 459, 460, 461, 462, 463],\n",
       "        [464, 465, 466, 467, 468, 469, 470, 471],\n",
       "        [472, 473, 474, 475, 476, 477, 478, 479],\n",
       "        [480, 481, 482, 483, 484, 485, 486, 487],\n",
       "        [488, 489, 490, 491, 492, 493, 494, 495],\n",
       "        [496, 497, 498, 499, 500, 501, 502, 503],\n",
       "        [504, 505, 506, 507, 508, 509, 510, 511]]], dtype=int32)"
      ]
     },
     "execution_count": 7,
     "metadata": {},
     "output_type": "execute_result"
    }
   ],
   "source": [
    "res[4:8,:,:]"
   ]
  },
  {
   "cell_type": "code",
   "execution_count": 8,
   "metadata": {},
   "outputs": [
    {
     "data": {
      "text/plain": [
       "array([[[256, 257, 258, 259, 260, 261, 262, 263],\n",
       "        [264, 265, 266, 267, 268, 269, 270, 271],\n",
       "        [272, 273, 274, 275, 276, 277, 278, 279],\n",
       "        [280, 281, 282, 283, 284, 285, 286, 287],\n",
       "        [288, 289, 290, 291, 292, 293, 294, 295],\n",
       "        [296, 297, 298, 299, 300, 301, 302, 303],\n",
       "        [304, 305, 306, 307, 308, 309, 310, 311],\n",
       "        [312, 313, 314, 315, 316, 317, 318, 319]],\n",
       "\n",
       "       [[320, 321, 322, 323, 324, 325, 326, 327],\n",
       "        [328, 329, 330, 331, 332, 333, 334, 335],\n",
       "        [336, 337, 338, 339, 340, 341, 342, 343],\n",
       "        [344, 345, 346, 347, 348, 349, 350, 351],\n",
       "        [352, 353, 354, 355, 356, 357, 358, 359],\n",
       "        [360, 361, 362, 363, 364, 365, 366, 367],\n",
       "        [368, 369, 370, 371, 372, 373, 374, 375],\n",
       "        [376, 377, 378, 379, 380, 381, 382, 383]],\n",
       "\n",
       "       [[384, 385, 386, 387, 388, 389, 390, 391],\n",
       "        [392, 393, 394, 395, 396, 397, 398, 399],\n",
       "        [400, 401, 402, 403, 404, 405, 406, 407],\n",
       "        [408, 409, 410, 411, 412, 413, 414, 415],\n",
       "        [416, 417, 418, 419, 420, 421, 422, 423],\n",
       "        [424, 425, 426, 427, 428, 429, 430, 431],\n",
       "        [432, 433, 434, 435, 436, 437, 438, 439],\n",
       "        [440, 441, 442, 443, 444, 445, 446, 447]],\n",
       "\n",
       "       [[448, 449, 450, 451, 452, 453, 454, 455],\n",
       "        [456, 457, 458, 459, 460, 461, 462, 463],\n",
       "        [464, 465, 466, 467, 468, 469, 470, 471],\n",
       "        [472, 473, 474, 475, 476, 477, 478, 479],\n",
       "        [480, 481, 482, 483, 484, 485, 486, 487],\n",
       "        [488, 489, 490, 491, 492, 493, 494, 495],\n",
       "        [496, 497, 498, 499, 500, 501, 502, 503],\n",
       "        [504, 505, 506, 507, 508, 509, 510, 511]]], dtype=int32)"
      ]
     },
     "execution_count": 8,
     "metadata": {},
     "output_type": "execute_result"
    }
   ],
   "source": [
    "res_trans"
   ]
  },
  {
   "cell_type": "code",
   "execution_count": null,
   "metadata": {},
   "outputs": [],
   "source": []
  }
 ],
 "metadata": {
  "kernelspec": {
   "display_name": "Python 3",
   "language": "python",
   "name": "python3"
  },
  "language_info": {
   "codemirror_mode": {
    "name": "ipython",
    "version": 3
   },
   "file_extension": ".py",
   "mimetype": "text/x-python",
   "name": "python",
   "nbconvert_exporter": "python",
   "pygments_lexer": "ipython3",
   "version": "3.6.4"
  }
 },
 "nbformat": 4,
 "nbformat_minor": 2
}
