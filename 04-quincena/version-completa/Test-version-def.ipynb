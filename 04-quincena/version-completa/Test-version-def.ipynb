{
 "cells": [
  {
   "cell_type": "markdown",
   "metadata": {},
   "source": [
    "# Test de la versión completa"
   ]
  },
  {
   "cell_type": "markdown",
   "metadata": {},
   "source": [
    "Test de la función creada en este directorio que consiste en llamar a una función de *C* y, ésta, decide que algoritmo usar: si el simple o el general."
   ]
  },
  {
   "cell_type": "code",
   "execution_count": 52,
   "metadata": {},
   "outputs": [],
   "source": [
    "import transformData as td\n",
    "import matplotlib.pyplot as plt\n",
    "import numpy as np\n",
    "import pycblosc2 as cb2\n",
    "import time as t"
   ]
  },
  {
   "cell_type": "markdown",
   "metadata": {},
   "source": [
    "## Definición de los datos"
   ]
  },
  {
   "cell_type": "code",
   "execution_count": 53,
   "metadata": {},
   "outputs": [],
   "source": [
    "image = (plt.imread(\"../../data/lenna.png\")*255).astype(np.uint8).view(np.uint32)\n",
    "\n",
    "h = len(image)\n",
    "w = len(image[0])\n",
    "\n",
    "image =  image.reshape(h, w)\n",
    "\n",
    "BYTES_SIZE = image.size * image.dtype.itemsize"
   ]
  },
  {
   "cell_type": "markdown",
   "metadata": {},
   "source": [
    "## Transformación de los datos"
   ]
  },
  {
   "cell_type": "code",
   "execution_count": 54,
   "metadata": {},
   "outputs": [],
   "source": [
    "# ALGORITMO GENERAL\n",
    "\n",
    "start = t.perf_counter()\n",
    "\n",
    "subshape = [255, 255]\n",
    "imageT = td.tData(image, subshape, inverse=False)\n",
    "\n",
    "end = t.perf_counter()\n",
    "\n",
    "tGeneral = end - start\n",
    "\n",
    "# ALGORITMO SIMPLE\n",
    "\n",
    "start = t.perf_counter()\n",
    "\n",
    "subshape = [256, 256]\n",
    "imageT = td.tData(image, subshape, inverse=False)\n",
    "\n",
    "end = t.perf_counter()\n",
    "\n",
    "tSimple = end - start"
   ]
  },
  {
   "cell_type": "markdown",
   "metadata": {},
   "source": [
    "## Resultados"
   ]
  },
  {
   "cell_type": "code",
   "execution_count": 55,
   "metadata": {},
   "outputs": [
    {
     "name": "stdout",
     "output_type": "stream",
     "text": [
      "Tiempo del algortimo general: 0.1357 s\n",
      "Tiempo del algortimo simple: 0.0804 s\n",
      "\n",
      "El algoritmo simple és 1.69 veces más rápido que el algoritmo general\n"
     ]
    }
   ],
   "source": [
    "print('Tiempo del algortimo general: {:.4f} s'.format(tGeneral))\n",
    "print('Tiempo del algortimo simple: {:.4f} s'.format(tSimple))\n",
    "print()\n",
    "print('El algoritmo simple és {:.2f} veces más rápido que el algoritmo general'.format(tGeneral/tSimple))"
   ]
  },
  {
   "cell_type": "markdown",
   "metadata": {},
   "source": [
    "Como se observa en los datos anteriores, vale la pena usar una función que seleccione un algoritmo u otro, dependiendo de como se definan los datos. Es conveniente que, siempre que se pueda, se use el algoritmo simple."
   ]
  },
  {
   "cell_type": "code",
   "execution_count": null,
   "metadata": {},
   "outputs": [],
   "source": []
  },
  {
   "cell_type": "code",
   "execution_count": null,
   "metadata": {},
   "outputs": [],
   "source": []
  },
  {
   "cell_type": "code",
   "execution_count": null,
   "metadata": {},
   "outputs": [],
   "source": []
  }
 ],
 "metadata": {
  "kernelspec": {
   "display_name": "Python 3",
   "language": "python",
   "name": "python3"
  },
  "language_info": {
   "codemirror_mode": {
    "name": "ipython",
    "version": 3
   },
   "file_extension": ".py",
   "mimetype": "text/x-python",
   "name": "python",
   "nbconvert_exporter": "python",
   "pygments_lexer": "ipython3",
   "version": "3.6.4"
  }
 },
 "nbformat": 4,
 "nbformat_minor": 2
}
