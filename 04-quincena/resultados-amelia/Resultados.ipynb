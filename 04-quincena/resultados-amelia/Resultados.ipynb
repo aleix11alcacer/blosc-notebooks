{
 "cells": [
  {
   "cell_type": "markdown",
   "metadata": {},
   "source": [
    "# Resumen del trabajo realizado"
   ]
  },
  {
   "cell_type": "code",
   "execution_count": 1,
   "metadata": {},
   "outputs": [],
   "source": [
    "import transformData as td\n",
    "import matplotlib.pyplot as plt\n",
    "import numpy as np\n",
    "import pycblosc2 as cb2\n",
    "import time as t\n",
    "from math import log"
   ]
  },
  {
   "cell_type": "markdown",
   "metadata": {},
   "source": [
    "## Definicición del conjunto de datos"
   ]
  },
  {
   "cell_type": "code",
   "execution_count": 129,
   "metadata": {},
   "outputs": [],
   "source": [
    "image = (plt.imread(\"../../data/chessg.png\")*255).astype(np.uint8).view(np.uint32)\n",
    "\n",
    "h = len(image)\n",
    "w = len(image[0])\n",
    "\n",
    "image =  image.reshape(h, w)\n",
    "\n",
    "BYTES_SIZE = image.size * image.dtype.itemsize"
   ]
  },
  {
   "cell_type": "markdown",
   "metadata": {},
   "source": [
    "## Transformación del conjunto de datos"
   ]
  },
  {
   "cell_type": "code",
   "execution_count": 144,
   "metadata": {},
   "outputs": [],
   "source": [
    "start = t.perf_counter()\n",
    "\n",
    "subshape = [1024, 32]\n",
    "imageT = td.t_dataC_simple(image, subshape, inverse=False)\n",
    "\n",
    "end = t.perf_counter()\n",
    "\n",
    "ttransform = end - start"
   ]
  },
  {
   "cell_type": "markdown",
   "metadata": {},
   "source": [
    "## Compresión del conjunto de datos (aplicando shuffle iterativo) "
   ]
  },
  {
   "cell_type": "markdown",
   "metadata": {},
   "source": [
    "### Definición de los parámetros"
   ]
  },
  {
   "cell_type": "code",
   "execution_count": 145,
   "metadata": {},
   "outputs": [],
   "source": [
    "KB = 1024\n",
    "MB = 1024 * KB\n",
    "GB = 1024 * MB\n",
    "\n",
    "BLOSC_MAX_FILTERS = 5\n",
    "BLOSC_BLOCKSIZE = 16 * KB\n",
    "BLOSC_TYPESIZE = 4\n",
    "BLOSC_CODE = 1\n",
    "\n",
    "cparams = cb2.blosc2_create_cparams(compcode=BLOSC_CODE, clevel=5, use_dict=0, typesize=BLOSC_TYPESIZE,\n",
    "                                        nthreads=4, blocksize= BLOSC_BLOCKSIZE, schunk=None,\n",
    "                                        filters=[0, 0, 0, 0, 0],\n",
    "                                        filters_meta=[0, 0, 0, 0, 0])\n",
    "\n",
    "dparams = cb2.blosc2_create_dparams(nthreads=4, schunk=None)"
   ]
  },
  {
   "cell_type": "markdown",
   "metadata": {},
   "source": [
    "### Compresión del conjunto de datos"
   ]
  },
  {
   "cell_type": "code",
   "execution_count": 147,
   "metadata": {},
   "outputs": [],
   "source": [
    "# CÁLCULO DEL ORDEN DE LA PERMUTACIÓN\n",
    "\n",
    "SIZE = BLOSC_BLOCKSIZE  / BLOSC_TYPESIZE\n",
    "TAM = BLOSC_TYPESIZE\n",
    "\n",
    "if  log(SIZE, 2) % log(TAM, 2) == 0:\n",
    "    orden = int(log(SIZE, TAM) + 1)\n",
    "else:\n",
    "    orden = int(log(SIZE, 2) + log(TAM, 2))\n",
    "\n",
    "nIters = range(orden + 1)\n",
    "\n",
    "\n",
    "\n",
    "# COMPRESIÓN DE LA IMAGEN SIN TRANSFORMAR\n",
    "\n",
    "ratios = []\n",
    "\n",
    "# Compresión sin shuffle\n",
    "\n",
    "start = t.perf_counter()\n",
    "\n",
    "cparams.filters[BLOSC_MAX_FILTERS - 1] = 0\n",
    "\n",
    "schunk = cb2.blosc2_new_schunk(cparams, dparams)\n",
    "nchunks = cb2.blosc2_append_buffer(schunk, BYTES_SIZE, image)\n",
    "\n",
    "end = t.perf_counter()\n",
    "\n",
    "nbytes = schunk.nbytes\n",
    "cbytes = schunk.cbytes\n",
    "cb2.blosc2_free_schunk(schunk)\n",
    "\n",
    "r = (1. * nbytes) / cbytes\n",
    "\n",
    "ratios.append(r)\n",
    "\n",
    "ttotal = end - start\n",
    "\n",
    "# Compresión con el shuffle iterativo\n",
    "\n",
    "cparams.filters[BLOSC_MAX_FILTERS - 1] = 1\n",
    "\n",
    "for i in range(orden):\n",
    "    cparams.filters_meta[BLOSC_MAX_FILTERS - 1] = i\n",
    "    schunk = cb2.blosc2_new_schunk(cparams, dparams)\n",
    "    nchunks = cb2.blosc2_append_buffer(schunk, BYTES_SIZE, image)\n",
    "    nbytes = schunk.nbytes\n",
    "    cbytes = schunk.cbytes\n",
    "    cb2.blosc2_free_schunk(schunk)\n",
    "\n",
    "    r = (1. * nbytes) / cbytes\n",
    "\n",
    "    ratios.append(r)\n",
    "    \n",
    "\n",
    "    \n",
    "# COMPRESIÓN DE LA IMAGEN TRANSFORMADA\n",
    "\n",
    "ratiosT = []\n",
    "\n",
    "# Compresión sin shuffle\n",
    "\n",
    "start = t.perf_counter()\n",
    "\n",
    "cparams.filters[BLOSC_MAX_FILTERS - 1] = 0\n",
    "\n",
    "schunk = cb2.blosc2_new_schunk(cparams, dparams)\n",
    "nchunks = cb2.blosc2_append_buffer(schunk, BYTES_SIZE, imageT)\n",
    "\n",
    "end = t.perf_counter()\n",
    "\n",
    "nbytes = schunk.nbytes\n",
    "cbytes = schunk.cbytes\n",
    "cb2.blosc2_free_schunk(schunk)\n",
    "\n",
    "r = (1. * nbytes) / cbytes\n",
    "\n",
    "ratiosT.append(r)\n",
    "\n",
    "ttotalT = end - start + ttransform\n",
    "\n",
    "# Compresión con el shuffle iterativo\n",
    "\n",
    "cparams.filters[BLOSC_MAX_FILTERS - 1] = 1\n",
    "\n",
    "for i in range(orden):\n",
    "    cparams.filters_meta[BLOSC_MAX_FILTERS - 1] = i\n",
    "    schunk = cb2.blosc2_new_schunk(cparams, dparams)\n",
    "    nchunks = cb2.blosc2_append_buffer(schunk, BYTES_SIZE, imageT)\n",
    "    nbytes = schunk.nbytes\n",
    "    cbytes = schunk.cbytes\n",
    "    cb2.blosc2_free_schunk(schunk)\n",
    "\n",
    "    r = (1. * nbytes) / cbytes\n",
    "\n",
    "    ratiosT.append(r)"
   ]
  },
  {
   "cell_type": "markdown",
   "metadata": {},
   "source": [
    "## Impresión de los resultados"
   ]
  },
  {
   "cell_type": "markdown",
   "metadata": {},
   "source": [
    "### Conjunto de datos analizados"
   ]
  },
  {
   "cell_type": "code",
   "execution_count": 138,
   "metadata": {},
   "outputs": [
    {
     "data": {
      "image/png": "[encoded data removed]",
      "text/plain": [
       "<matplotlib.figure.Figure at 0x11fe04128>"
      ]
     },
     "metadata": {},
     "output_type": "display_data"
    }
   ],
   "source": [
    "f, axarr = plt.subplots(1, 2, figsize=(16,8))\n",
    "axarr[0].imshow(image.reshape(h, w, 1).view(np.uint8)[:,:,:], cmap='binary')\n",
    "axarr[0].set_title(\"Imagen original\")\n",
    "axarr[0].xaxis.set_major_locator(plt.NullLocator())\n",
    "axarr[0].yaxis.set_major_locator(plt.NullLocator())\n",
    "\n",
    "axarr[1].imshow(imageT.reshape(h, w, 1).view(np.uint8)[:,:,:], cmap='binary')\n",
    "axarr[1].set_title(\"Imagen transformada\")\n",
    "axarr[1].xaxis.set_major_locator(plt.NullLocator())\n",
    "axarr[1].yaxis.set_major_locator(plt.NullLocator())\n",
    "\n",
    "plt.show()"
   ]
  },
  {
   "cell_type": "markdown",
   "metadata": {},
   "source": [
    "### Resultados de compresión"
   ]
  },
  {
   "cell_type": "code",
   "execution_count": 143,
   "metadata": {
    "scrolled": false
   },
   "outputs": [
    {
     "data": {
      "image/png": "[encoded data removed]",
      "text/plain": [
       "<matplotlib.figure.Figure at 0x120a73400>"
      ]
     },
     "metadata": {},
     "output_type": "display_data"
    },
    {
     "name": "stdout",
     "output_type": "stream",
     "text": [
      "La tasa de compresión de los datos transformados es 1.18 veces mejor que la tasa de la imagen original.\n"
     ]
    }
   ],
   "source": [
    "fig = plt.figure(figsize=(16, 8))\n",
    "\n",
    "plt.plot(nIters, ratios, label = \"Sin transformación\")\n",
    "plt.plot(nIters, ratiosT, label = \"Con transformación\")\n",
    "\n",
    "plt.ylabel(\"Tasa de comp.\")\n",
    "plt.xlabel(\"Iters. del shuffle\")\n",
    "plt.title(\"Compresor \" + cb2.blosc_compcode_to_compname(BLOSC_CODE)[1])\n",
    "plt.legend(loc = \"upper right\")\n",
    "           \n",
    "plt.show()\n",
    "\n",
    "f = max(ratiosT)/max(ratios)\n",
    "print(\"La tasa de compresión de los datos transformados es {:.2f} veces\"\n",
    "      \" mejor que la tasa de la imagen original.\".format(f))"
   ]
  },
  {
   "cell_type": "markdown",
   "metadata": {},
   "source": [
    "### Tiempo empleado para la compresión"
   ]
  },
  {
   "cell_type": "code",
   "execution_count": 148,
   "metadata": {},
   "outputs": [
    {
     "name": "stdout",
     "output_type": "stream",
     "text": [
      "La compresión de la imagen original ha costado 0.002 segundos.\n",
      "La compresión de la imagen transformada ha costado 0.302 segundos.\n"
     ]
    }
   ],
   "source": [
    "print(\"La compresión de la imagen original ha costado {:.3f} segundos.\".format(ttotal))\n",
    "print(\"La compresión de la imagen transformada ha costado {:.3f} segundos.\".format(ttotalT))"
   ]
  },
  {
   "cell_type": "code",
   "execution_count": null,
   "metadata": {},
   "outputs": [],
   "source": []
  }
 ],
 "metadata": {
  "kernelspec": {
   "display_name": "Python 3",
   "language": "python",
   "name": "python3"
  },
  "language_info": {
   "codemirror_mode": {
    "name": "ipython",
    "version": 3
   },
   "file_extension": ".py",
   "mimetype": "text/x-python",
   "name": "python",
   "nbconvert_exporter": "python",
   "pygments_lexer": "ipython3",
   "version": "3.6.4"
  }
 },
 "nbformat": 4,
 "nbformat_minor": 2
}
