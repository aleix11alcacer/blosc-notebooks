{
 "cells": [
  {
   "cell_type": "markdown",
   "metadata": {},
   "source": [
    "# Algoritmo de transposición de conjunto de datos generalizado"
   ]
  },
  {
   "cell_type": "markdown",
   "metadata": {},
   "source": [
    "En este notebook se ha desarrollado un algoritmo que permite hacer transformaciones a datasets de *n* dimensiones. Con el siguiente ejemplo se va entender cómo funciona y cuáles són las motivaciones para ser desarrollado."
   ]
  },
  {
   "cell_type": "markdown",
   "metadata": {},
   "source": [
    "## Ejemplo"
   ]
  },
  {
   "cell_type": "code",
   "execution_count": 344,
   "metadata": {},
   "outputs": [
    {
     "name": "stdout",
     "output_type": "stream",
     "text": [
      "\n",
      "Los datos originales son:\n",
      "\n",
      "[[ 1  2  3  4]\n",
      " [ 5  6  7  8]\n",
      " [ 9 10 11 12]\n",
      " [13 14 15 16]]\n",
      "\n",
      "Los datos modificados son:\n",
      "\n",
      "[[ 1  2  5  6]\n",
      " [ 3  4  7  8]\n",
      " [ 9 10 13 14]\n",
      " [11 12 15 16]]\n"
     ]
    }
   ],
   "source": [
    "import numpy as np\n",
    "\n",
    "# Se genera una conjunto de datos inicial\n",
    "\n",
    "src = np.array([[1, 2, 3, 4], [5, 6, 7, 8], [9, 10, 11, 12], [13, 14, 15, 16]])\n",
    "\n",
    "# Se genera el conjunto de datos que queremos obtener si las subdimensiones fueran (2, 2)\n",
    "\n",
    "dest = np.array([[1, 2, 5, 6], [3, 4, 7, 8], [9, 10, 13, 14], [11, 12, 15, 16]])\n",
    "\n",
    "# Se imprime los resultados\n",
    "\n",
    "print(\"\\nLos datos originales son:\\n\")\n",
    "print(src)\n",
    "\n",
    "print(\"\\nLos datos modificados son:\\n\")\n",
    "print(dest)"
   ]
  },
  {
   "cell_type": "markdown",
   "metadata": {},
   "source": [
    "Como se observa, la idea de la trasformación es colocar próximos (en sentido lineal) los datos que están próximos teniendo en cuenta las dimensiones.\n",
    "\n",
    "Por ejemplo, si consideramos las matrices como vectores, el número 2 tiene como elementos más próximos al 1 y al 3, pero si la consideramos como matriz tiene también al 5, 6, 7. sin embargo, si consideramos la matriz como vector estos elementos están alejados del 2.\n",
    "\n",
    "Después de la transformación, vemos que el 5 y el 6, que antes estaban lejos, ahora están más próximos. Cuanto más grande son los tamaños de las dimensiones, este resultado se ve más claro."
   ]
  },
  {
   "cell_type": "markdown",
   "metadata": {},
   "source": [
    "## Desarrollo del algoritmo"
   ]
  },
  {
   "cell_type": "markdown",
   "metadata": {},
   "source": [
    "### Versión para un máximo de 3 dimensiones"
   ]
  },
  {
   "cell_type": "code",
   "execution_count": 390,
   "metadata": {},
   "outputs": [],
   "source": [
    "def t_data2(data, sub_shp, inverse=False):\n",
    "    \n",
    "    dim = [0, 0, 0, 0]\n",
    "    sho = [1, 1, 1, 1]\n",
    "    shp = [1, 1, 1, 1]\n",
    "    sub = [1, 1, 1, 1]\n",
    "    \n",
    "    dest = np.zeros(data.shape, dtype=data.dtype).flatten()\n",
    "       \n",
    "    org_shp = list(data.shape)\n",
    "        \n",
    "    dta_shp = [org_shp[i] - org_shp[i]%sub_shp[i] for i in range(len(org_shp))]\n",
    "    \n",
    "    org_shp.reverse()   \n",
    "    dta_shp.reverse()\n",
    "    sub_shp = sub_shp\n",
    "    sub_shp.reverse()\n",
    "    \n",
    "    for i in range(len(dta_shp)):\n",
    "        dim[i] = 1\n",
    "        shp[i] = dta_shp[i]\n",
    "        sub[i] = sub_shp[i]\n",
    "        sho[i] = org_shp[i]\n",
    "\n",
    "    cont = 0\n",
    "    \n",
    "    K = 0    \n",
    "    \n",
    "    data_aux = data.flatten()\n",
    "    \n",
    "    while K <  shp[0]*shp[1]*shp[2]*shp[3]:\n",
    "        \n",
    "        if (((K + cont)%sho[0] >= sho[0] - sho[0]%sub[0])\n",
    "            or ((K + cont)%(sho[0]*sho[1])//(sho[0]) >= sho[1] - sho[1]%sub[1])\n",
    "            or ((K + cont)%(sho[0]*sho[1]*sho[2])//(sho[0]*sho[1]) >= sho[2] - sho[2]%sub[2])\n",
    "            or ((K + cont)%(sho[0]*sho[1]*sho[2]*sho[3])//(sho[0]*sho[1]*sho[2]) >= sho[3] - sho[3]%sub[3])):                        \n",
    "                       \n",
    "\n",
    "            dest[K + cont] = data_aux[K + cont]\n",
    "            \n",
    "            cont += 1\n",
    "        \n",
    "        else:\n",
    "            L = K + cont\n",
    "  \n",
    "            J = (dim[0]*((K)%sub[0] + K//(sub[0]*sub[1]*sub[2]*sub[3])%(shp[0]//sub[0])*sub[0])\n",
    "                 +\n",
    "                 dim[1]*(K//(sub[0])%sub[1]*shp[0] + K//(shp[0]*sub[1]*sub[2]*sub[3])%(shp[1]//sub[1])*shp[0]*sub[1])\n",
    "                 +\n",
    "                 dim[2]*(K//(sub[0]*sub[1])%sub[2]*shp[1]*shp[0] + K//(shp[0]*shp[1]*sub[2]*sub[3])%(shp[2]//sub[2])*shp[0]*shp[1]*sub[2])\n",
    "                 +\n",
    "                 dim[3]*(K//(sub[0]*sub[1]*sub[2])%sub[3]*shp[2]*shp[1]*shp[0] + K//(shp[0]*shp[1]*shp[2]*sub[3])%(shp[3]//sub[3])*shp[0]*shp[1]*sub[2]*sub[3])\n",
    "                )\n",
    "        \n",
    "            inc = (J//shp[0] * (sho[0]%sub[0])\n",
    "                   + J//(shp[1]*shp[0]) * (sho[1]%sub[1])\n",
    "                   + J//(shp[2]*shp[1]*shp[0]) * (sho[2]%sub[2])\n",
    "                   + J//(shp[3]*shp[2]*shp[1]*shp[0]) * (sho[3]%sub[3]))\n",
    "\n",
    "\n",
    "            dest[L] = data_aux[J + inc]\n",
    "                        \n",
    "            K+=1\n",
    "    \n",
    "    # Añadimos los últimos elementos que faltan por copiar\n",
    "    \n",
    "    # OJO. Esto hay que corregirlo.\n",
    "    \n",
    "    L = K + cont\n",
    "    for i in range(sho[0]%sub[0]):\n",
    "        dest[L + i] = data_aux[L + i]\n",
    "    return dest"
   ]
  },
  {
   "cell_type": "code",
   "execution_count": 389,
   "metadata": {
    "scrolled": false
   },
   "outputs": [
    {
     "name": "stdout",
     "output_type": "stream",
     "text": [
      "[[[[  0   1   2]\n",
      "   [  3   4   5]\n",
      "   [  6   7   8]\n",
      "   [  9  10  11]]\n",
      "\n",
      "  [[ 10  11  14]\n",
      "   [ 13  14  17]\n",
      "   [ 16  17  20]\n",
      "   [ 21  22  23]]\n",
      "\n",
      "  [[ 40  41  26]\n",
      "   [ 43  44  29]\n",
      "   [ 46  47  32]\n",
      "   [ 33  34  35]]\n",
      "\n",
      "  [[ 50  51  38]\n",
      "   [ 53  54  41]\n",
      "   [ 56  57  44]\n",
      "   [ 45  46  47]]]\n",
      "\n",
      "\n",
      " [[[ 20  21  50]\n",
      "   [ 23  24  53]\n",
      "   [ 26  27  56]\n",
      "   [ 57  58  59]]\n",
      "\n",
      "  [[ 30  31  62]\n",
      "   [ 33  34  65]\n",
      "   [ 36  37  68]\n",
      "   [ 69  70  71]]\n",
      "\n",
      "  [[ 60  61  74]\n",
      "   [ 63  64  77]\n",
      "   [ 66  67  80]\n",
      "   [ 81  82  83]]\n",
      "\n",
      "  [[ 70  71  86]\n",
      "   [ 73  74  89]\n",
      "   [ 76  77  92]\n",
      "   [ 93  94  95]]]\n",
      "\n",
      "\n",
      " [[[ 40  41  98]\n",
      "   [ 43  44 101]\n",
      "   [ 46  47 104]\n",
      "   [105 106 107]]\n",
      "\n",
      "  [[ 50  51 110]\n",
      "   [ 53  54 113]\n",
      "   [ 56  57 116]\n",
      "   [117 118 119]]\n",
      "\n",
      "  [[ 80  81 122]\n",
      "   [ 83  84 125]\n",
      "   [ 86  87 128]\n",
      "   [129 130 131]]\n",
      "\n",
      "  [[ 90  91 134]\n",
      "   [ 93  94 137]\n",
      "   [ 96  97 140]\n",
      "   [141 142 143]]]\n",
      "\n",
      "\n",
      " [[[ 60  61 146]\n",
      "   [ 63  64 149]\n",
      "   [ 66  67 152]\n",
      "   [153 154 155]]\n",
      "\n",
      "  [[ 70  71 158]\n",
      "   [ 73  74 161]\n",
      "   [ 76  77 164]\n",
      "   [165 166 167]]\n",
      "\n",
      "  [[100 101 170]\n",
      "   [103 104 173]\n",
      "   [106 107 176]\n",
      "   [177 178 179]]\n",
      "\n",
      "  [[110 111 182]\n",
      "   [113 114 185]\n",
      "   [116 117 188]\n",
      "   [  0   0   0]]]]\n"
     ]
    }
   ],
   "source": [
    "# Definición de los datos\n",
    "\n",
    "a, b, c, d = 4, 4, 4, 3\n",
    "\n",
    "data = np.arange(a * b * c * d, dtype=np.int32).reshape(a, b, c, d)\n",
    "sub_shape = [2, 2, 3, 2]\n",
    "\n",
    "# Test de las dos funciones creadas\n",
    "\n",
    "res = t_data2(data, sub_shape, inverse=False)\n",
    "\n",
    "print(res.reshape(data.shape))"
   ]
  },
  {
   "cell_type": "code",
   "execution_count": null,
   "metadata": {},
   "outputs": [],
   "source": []
  },
  {
   "cell_type": "code",
   "execution_count": null,
   "metadata": {},
   "outputs": [],
   "source": []
  }
 ],
 "metadata": {
  "kernelspec": {
   "display_name": "Python 3",
   "language": "python",
   "name": "python3"
  },
  "language_info": {
   "codemirror_mode": {
    "name": "ipython",
    "version": 3
   },
   "file_extension": ".py",
   "mimetype": "text/x-python",
   "name": "python",
   "nbconvert_exporter": "python",
   "pygments_lexer": "ipython3",
   "version": "3.6.4"
  }
 },
 "nbformat": 4,
 "nbformat_minor": 2
}
