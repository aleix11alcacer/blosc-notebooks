{
 "cells": [
  {
   "cell_type": "markdown",
   "metadata": {},
   "source": [
    "# Influencia del algortimo a la hora de comprimir en Blosc"
   ]
  },
  {
   "cell_type": "markdown",
   "metadata": {},
   "source": [
    "## Definición de la función"
   ]
  },
  {
   "cell_type": "code",
   "execution_count": 2,
   "metadata": {},
   "outputs": [],
   "source": [
    "from transform_data import ffi, lib\n",
    "\n",
    "def t_data(src, dest, sub_shape, inverse=False):\n",
    "\n",
    "    typesize = src.dtype.itemsize\n",
    "\n",
    "    src2 = ffi.from_buffer(src)\n",
    "    dest2 = ffi.from_buffer(dest)\n",
    "\n",
    "    shape = src.shape\n",
    "\n",
    "    dimension = len(src.shape)\n",
    "\n",
    "    lib.transform_data(src2, dest2, typesize, sub_shape, shape, dimension, inverse)"
   ]
  },
  {
   "cell_type": "code",
   "execution_count": 7,
   "metadata": {},
   "outputs": [],
   "source": [
    "% matplotlib inline\n",
    "\n",
    "import pycblosc2 as cb2\n",
    "import matplotlib.pyplot as plt\n",
    "import numpy as np\n",
    "import pandas as pd\n",
    "import pycblosc2 as cb2\n",
    "import time as t\n",
    "\n",
    "KB = 1024\n",
    "MB = 1024 * KB\n",
    "GB = 1024 * MB\n",
    "\n",
    "A, B, C = \n",
    "CHUNKSIZE = A * B * C\n",
    "BLOSC_MAX_FILTERS = 5\n",
    "\n",
    "src = np.arange(CHUNKSIZE, dtype=np.float64).reshape(A, B, C)\n",
    "dest = np.empty(CHUNKSIZE, dtype=src.dtype).reshape(A, B, C)\n",
    "\n",
    "tsize = src.dtype.itemsize\n",
    "isize = CHUNKSIZE * tsize\n",
    "\n",
    "dsize = 0\n",
    "\n",
    "cparams = cb2.blosc2_create_cparams(compcode=4, clevel=5, use_dict=0, typesize=tsize,\n",
    "                                    nthreads=4, blocksize=16 * KB, schunk=None,\n",
    "                                    filters=[0, 0, 0, 0, 1],\n",
    "                                    filters_meta=[0, 0, 0, 0, 0])\n",
    "\n",
    "dparams = cb2.blosc2_create_dparams(nthreads=1, schunk=None)"
   ]
  },
  {
   "cell_type": "code",
   "execution_count": 12,
   "metadata": {},
   "outputs": [
    {
     "data": {
      "image/png": "[encoded data removed]",
      "text/plain": [
       "<matplotlib.figure.Figure at 0x7f88d5d2f6d8>"
      ]
     },
     "metadata": {},
     "output_type": "display_data"
    }
   ],
   "source": [
    "fig = plt.figure(figsize=(16, 7))\n",
    "n = []\n",
    "ratio = []\n",
    "speed = [] \n",
    "for i, sub in enumerate(sub_shapes):\n",
    "    \n",
    "    start = t.perf_counter()\n",
    "\n",
    "    schunk = cb2.blosc2_new_schunk(cparams, dparams)\n",
    "    nchunks = cb2.blosc2_append_buffer(schunk, isize, data)\n",
    "    nbytes = schunk.nbytes\n",
    "    cbytes = schunk.cbytes\n",
    "\n",
    "    end = t.perf_counter()\n",
    "    ttotal = end - start\n",
    "\n",
    "    r = (1. * nbytes) / cbytes\n",
    "    s = nbytes / (ttotal * MB)\n",
    "\n",
    "    n.append(i+1)\n",
    "    ratio.append(r)\n",
    "    speed.append(s)\n",
    "\n",
    "    cb2.blosc2_free_schunk(schunk)\n",
    "\n",
    "plt.plot(n, ratio, label=cb2.blosc_compcode_to_compname(4)[1])\n",
    "\n",
    "plt.ylabel(\"Ratio de comp.\")\n",
    "plt.xlabel(\"Iters. del shuffle\")\n",
    "plt.legend(loc = \"upper right\")\n",
    "\n",
    "plt.show()"
   ]
  },
  {
   "cell_type": "code",
   "execution_count": null,
   "metadata": {},
   "outputs": [],
   "source": []
  }
 ],
 "metadata": {
  "kernelspec": {
   "display_name": "Python 3",
   "language": "python",
   "name": "python3"
  },
  "language_info": {
   "codemirror_mode": {
    "name": "ipython",
    "version": 3
   },
   "file_extension": ".py",
   "mimetype": "text/x-python",
   "name": "python",
   "nbconvert_exporter": "python",
   "pygments_lexer": "ipython3",
   "version": "3.6.3"
  }
 },
 "nbformat": 4,
 "nbformat_minor": 2
}
