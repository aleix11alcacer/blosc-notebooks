{
 "cells": [
  {
   "cell_type": "markdown",
   "metadata": {},
   "source": [
    "# Test para ver la generalidad del algoritmo"
   ]
  },
  {
   "cell_type": "markdown",
   "metadata": {},
   "source": [
    "En este notebook se van a desarrollar distintos tests para comprobar la generalidad del algoritmo, es decir, se va a comprovar que el tamaño de las muestras y las divisiones no tengan que ser muy específicas."
   ]
  },
  {
   "cell_type": "markdown",
   "metadata": {},
   "source": [
    "## Definición del algoritmo y de su inversa"
   ]
  },
  {
   "cell_type": "markdown",
   "metadata": {},
   "source": [
    "Vamos a definir una función, que a su vez, va a llamar a la función implementada en C y ya compilada para poder usar."
   ]
  },
  {
   "cell_type": "code",
   "execution_count": 3,
   "metadata": {},
   "outputs": [],
   "source": [
    "from transform_data import ffi, lib\n",
    "\n",
    "def t_data(src, dest, sub_shape, inverse=False):\n",
    "\n",
    "    typesize = src.dtype.itemsize\n",
    "\n",
    "    src2 = ffi.from_buffer(src)\n",
    "    dest2 = ffi.from_buffer(dest)\n",
    "\n",
    "    shape = src.shape\n",
    "\n",
    "    dimension = len(src.shape)\n",
    "\n",
    "    lib.transform_data(src2, dest2, typesize, sub_shape, shape, dimension, inverse)"
   ]
  },
  {
   "cell_type": "markdown",
   "metadata": {},
   "source": [
    "## Testeando el algoritmo"
   ]
  },
  {
   "cell_type": "markdown",
   "metadata": {},
   "source": [
    "### Inicialización de los parámatros"
   ]
  },
  {
   "cell_type": "code",
   "execution_count": 4,
   "metadata": {},
   "outputs": [],
   "source": [
    "import matplotlib.pyplot as plt\n",
    "import numpy as np\n",
    "import tables as tb"
   ]
  },
  {
   "cell_type": "markdown",
   "metadata": {},
   "source": [
    "### 1. Test\n",
    "\n",
    "En este test la el tamaño de las dimensiones de los datos no va a ser potencia de 2, pero el tamaño de las subdivisiones de las dimensiones va a ser divisor de todas las dimensiones."
   ]
  },
  {
   "cell_type": "code",
   "execution_count": 5,
   "metadata": {
    "scrolled": false
   },
   "outputs": [
    {
     "name": "stdout",
     "output_type": "stream",
     "text": [
      "OK. La transformación funciona correctamente.\n",
      "\n",
      "Datos originales\n",
      "[[  0   1   2   3   4   5   6   7   8   9  10  11  12  13  14]\n",
      " [ 15  16  17  18  19  20  21  22  23  24  25  26  27  28  29]\n",
      " [ 30  31  32  33  34  35  36  37  38  39  40  41  42  43  44]\n",
      " [ 45  46  47  48  49  50  51  52  53  54  55  56  57  58  59]\n",
      " [ 60  61  62  63  64  65  66  67  68  69  70  71  72  73  74]\n",
      " [ 75  76  77  78  79  80  81  82  83  84  85  86  87  88  89]\n",
      " [ 90  91  92  93  94  95  96  97  98  99 100 101 102 103 104]\n",
      " [105 106 107 108 109 110 111 112 113 114 115 116 117 118 119]\n",
      " [120 121 122 123 124 125 126 127 128 129 130 131 132 133 134]\n",
      " [135 136 137 138 139 140 141 142 143 144 145 146 147 148 149]\n",
      " [150 151 152 153 154 155 156 157 158 159 160 161 162 163 164]\n",
      " [165 166 167 168 169 170 171 172 173 174 175 176 177 178 179]]\n",
      "\n",
      "Datos modificados\n",
      "[[  0   1   2  15  16  17  30  31  32   3   4   5  18  19  20]\n",
      " [ 33  34  35   6   7   8  21  22  23  36  37  38   9  10  11]\n",
      " [ 24  25  26  39  40  41  12  13  14  27  28  29  42  43  44]\n",
      " [ 45  46  47  60  61  62  75  76  77  48  49  50  63  64  65]\n",
      " [ 78  79  80  51  52  53  66  67  68  81  82  83  54  55  56]\n",
      " [ 69  70  71  84  85  86  57  58  59  72  73  74  87  88  89]\n",
      " [ 90  91  92 105 106 107 120 121 122  93  94  95 108 109 110]\n",
      " [123 124 125  96  97  98 111 112 113 126 127 128  99 100 101]\n",
      " [114 115 116 129 130 131 102 103 104 117 118 119 132 133 134]\n",
      " [135 136 137 150 151 152 165 166 167 138 139 140 153 154 155]\n",
      " [168 169 170 141 142 143 156 157 158 171 172 173 144 145 146]\n",
      " [159 160 161 174 175 176 147 148 149 162 163 164 177 178 179]]\n"
     ]
    }
   ],
   "source": [
    "# Definición de los datos\n",
    "\n",
    "a, b = 12, 15\n",
    "\n",
    "src = np.arange(a * b, dtype=np.int32).reshape(a, b)\n",
    "\n",
    "dest = np.empty(src.size, dtype = src.dtype).reshape(src.shape)\n",
    "src2 = np.empty(src.size, dtype = src.dtype).reshape(src.shape)\n",
    "\n",
    "sub_shape = (3, 3)\n",
    "\n",
    "# Test de las dos funciones creadas\n",
    "\n",
    "t_data(src, dest, sub_shape, inverse=False)\n",
    "t_data(dest, src2, sub_shape, inverse=True)\n",
    "\n",
    "np.testing.assert_array_equal(src, src2)\n",
    "\n",
    "try:\n",
    "    np.testing.assert_array_equal(src, src2)\n",
    "    print(\"OK. La transformación funciona correctamente.\")\n",
    "except Exception:\n",
    "    print(\"ERROR. Las matrices no coinciden.\")\n",
    "    \n",
    "print()\n",
    "\n",
    "# Impresión de los datos reales y los datos modificados\n",
    "\n",
    "print(\"Datos originales\")\n",
    "print(src)\n",
    "\n",
    "print()\n",
    "\n",
    "print(\"Datos modificados\")\n",
    "print(dest)"
   ]
  },
  {
   "cell_type": "markdown",
   "metadata": {},
   "source": [
    "### 2. Test\n",
    "\n",
    "En este test la el tamaño de las dimensiones de los datos no va a ser múltiplo de 2. Además, el tamaño de las subdivisiones de las dimensiones va a ser divisor, sólo, de su dimensión."
   ]
  },
  {
   "cell_type": "code",
   "execution_count": 6,
   "metadata": {},
   "outputs": [
    {
     "name": "stdout",
     "output_type": "stream",
     "text": [
      "OK. La transformación funciona correctamente.\n",
      "\n",
      "Datos originales\n",
      "[[ 0  1  2  3  4  5  6  7]\n",
      " [ 8  9 10 11 12 13 14 15]\n",
      " [16 17 18 19 20 21 22 23]\n",
      " [24 25 26 27 28 29 30 31]\n",
      " [32 33 34 35 36 37 38 39]\n",
      " [40 41 42 43 44 45 46 47]\n",
      " [48 49 50 51 52 53 54 55]\n",
      " [56 57 58 59 60 61 62 63]\n",
      " [64 65 66 67 68 69 70 71]]\n",
      "\n",
      "Datos modificados\n",
      "[[ 0  1  8  9 16 17  2  3]\n",
      " [10 11 18 19  4  5 12 13]\n",
      " [20 21  6  7 14 15 22 23]\n",
      " [24 25 32 33 40 41 26 27]\n",
      " [34 35 42 43 28 29 36 37]\n",
      " [44 45 30 31 38 39 46 47]\n",
      " [48 49 56 57 64 65 50 51]\n",
      " [58 59 66 67 52 53 60 61]\n",
      " [68 69 54 55 62 63 70 71]]\n"
     ]
    }
   ],
   "source": [
    "# Definición de los datos\n",
    "\n",
    "a, b = 9, 8\n",
    "\n",
    "src = np.arange(a * b, dtype=np.int32).reshape(a, b)\n",
    "\n",
    "dest = np.empty(src.size, dtype = src.dtype).reshape(src.shape)\n",
    "src2 = np.empty(src.size, dtype = src.dtype).reshape(src.shape)\n",
    "\n",
    "sub_shape = (3, 2)\n",
    "\n",
    "# Test de las dos funciones creadas\n",
    "\n",
    "t_data(src, dest, sub_shape, inverse=False)\n",
    "t_data(dest, src2, sub_shape, inverse=True)\n",
    "\n",
    "np.testing.assert_array_equal(src, src2)\n",
    "\n",
    "try:\n",
    "    np.testing.assert_array_equal(src, src2)\n",
    "    print(\"OK. La transformación funciona correctamente.\")\n",
    "except Exception:\n",
    "    print(\"ERROR. Las matrices no coinciden.\")\n",
    "    \n",
    "print()\n",
    "\n",
    "# Impresión de los datos reales y los datos modificados\n",
    "\n",
    "print(\"Datos originales\")\n",
    "print(src)\n",
    "\n",
    "print()\n",
    "\n",
    "print(\"Datos modificados\")\n",
    "print(dest)"
   ]
  },
  {
   "cell_type": "markdown",
   "metadata": {},
   "source": [
    "### 3. Test\n",
    "\n",
    "En este test la el tamaño de las dimensiones de los datos no va a ser múltiplo de 2. Además, el tamaño de las subdivisiones de las dimensiones no va a ser divisor de su dimensión."
   ]
  },
  {
   "cell_type": "code",
   "execution_count": 7,
   "metadata": {},
   "outputs": [
    {
     "name": "stdout",
     "output_type": "stream",
     "text": [
      "ERROR. La transformación no funciona correctamente.\n",
      "\n",
      "Datos originales\n",
      "[[  0   1   2   3   4   5   6   7   8   9  10]\n",
      " [ 11  12  13  14  15  16  17  18  19  20  21]\n",
      " [ 22  23  24  25  26  27  28  29  30  31  32]\n",
      " [ 33  34  35  36  37  38  39  40  41  42  43]\n",
      " [ 44  45  46  47  48  49  50  51  52  53  54]\n",
      " [ 55  56  57  58  59  60  61  62  63  64  65]\n",
      " [ 66  67  68  69  70  71  72  73  74  75  76]\n",
      " [ 77  78  79  80  81  82  83  84  85  86  87]\n",
      " [ 88  89  90  91  92  93  94  95  96  97  98]\n",
      " [ 99 100 101 102 103 104 105 106 107 108 109]\n",
      " [110 111 112 113 114 115 116 117 118 119 120]\n",
      " [121 122 123 124 125 126 127 128 129 130 131]\n",
      " [132 133 134 135 136 137 138 139 140 141 142]\n",
      " [143 144 145 146 147 148 149 150 151 152 153]]\n",
      "\n",
      "Datos modificados\n",
      "[[  0   1   2  11  12  13  22  23  24  33  34]\n",
      " [ 35  44  45  46   3   4   5  14  15  16  25]\n",
      " [ 26  27  36  37  38  47  48  49   6   7   8]\n",
      " [ 17  18  19  28  29  30  39  40  41  50  51]\n",
      " [ 52   0   1   2  11  12  13  22  23  24  33]\n",
      " [ 89  90  99 100 101  58  59  60  69  70  71]\n",
      " [ 80  81  82  91  92  93 102 103 104  61  62]\n",
      " [ 63  72  73  74  83  84  85  94  95  96 105]\n",
      " [106 107  55  56  57  66  67  68  77  78  79]\n",
      " [ 88  89  90  99 100 101  58  59  60  69  70]\n",
      " [ 16  25  26  27  36  37  38  47  48  49   6]\n",
      " [  7   8  17  18  19  28  29  30  39  40  41]\n",
      " [ 50  51  52   0   1   2  11  12  13  22  23]\n",
      " [ 24  33  34  35  44  45  46   3   4   5  14]]\n"
     ]
    }
   ],
   "source": [
    "# Definición de los datos\n",
    "\n",
    "a, b = 14, 11\n",
    "\n",
    "src = np.arange(a * b, dtype=np.int32).reshape(a, b)\n",
    "\n",
    "dest = np.empty(src.size, dtype = src.dtype).reshape(src.shape)\n",
    "src2 = np.empty(src.size, dtype = src.dtype).reshape(src.shape)\n",
    "\n",
    "sub_shape = (5, 3)\n",
    "\n",
    "# Test de las dos funciones creadas\n",
    "\n",
    "t_data(src, dest, sub_shape, inverse=False)\n",
    "t_data(dest, src2, sub_shape, inverse=True)\n",
    "\n",
    "try:\n",
    "    np.testing.assert_array_equal(src, src2)\n",
    "    print(\"OK. La transformación funciona correctamente.\")\n",
    "except Exception:\n",
    "    print(\"ERROR. La transformación no funciona correctamente.\")\n",
    "    \n",
    "print()\n",
    "    \n",
    "# Impresión de los datos reales y los datos modificados\n",
    "\n",
    "print(\"Datos originales\")\n",
    "print(src)\n",
    "\n",
    "print()\n",
    "\n",
    "print(\"Datos modificados\")\n",
    "print(dest)"
   ]
  },
  {
   "cell_type": "markdown",
   "metadata": {},
   "source": [
    "## Conclusiones\n",
    "\n",
    "Se puede ver que el tamaño de las dimensiones no tiene por qué ser múltiplo de 2. Para que funcione el algoritmo solo hace falta que el tamaño de cada subdivisón sea divisor del tamaño de la dimensión asociada."
   ]
  },
  {
   "cell_type": "markdown",
   "metadata": {},
   "source": [
    "## Test para 'redimensionar' los datos a dimensiones de potencias de 2"
   ]
  },
  {
   "cell_type": "code",
   "execution_count": 15,
   "metadata": {},
   "outputs": [],
   "source": [
    "a, b = 10, 10\n",
    "\n",
    "src = np.arange(a * b, dtype=np.int32).reshape(a, b)\n",
    "\n",
    "dest = np.empty(src.size, dtype = src.dtype).reshape(src.shape)\n",
    "src2 = np.empty(src.size, dtype = src.dtype).reshape(src.shape)\n",
    "\n",
    "sub_shape = (2, 2)\n",
    "\n",
    "typesize = src.dtype.itemsize\n",
    "\n",
    "src2 = ffi.from_buffer(src)\n",
    "dest2 = ffi.from_buffer(dest)\n",
    "\n",
    "shape = (8, 8)\n",
    "\n",
    "dimension = len(src.shape)\n",
    "\n",
    "inverse = False\n",
    "\n",
    "lib.transform_data(src2, dest2, typesize, sub_shape, shape, dimension, inverse)"
   ]
  },
  {
   "cell_type": "code",
   "execution_count": 16,
   "metadata": {},
   "outputs": [
    {
     "name": "stdout",
     "output_type": "stream",
     "text": [
      "[[ 0  1  8  9  2  3 10 11  4  5]\n",
      " [12 13  6  7 14 15 16 17 24 25]\n",
      " [18 19 26 27 20 21 28 29 22 23]\n",
      " [30 31 32 33 40 41 34 35 42 43]\n",
      " [36 37 44 45 38 39 46 47 48 49]\n",
      " [56 57 50 51 58 59 52 53 60 61]\n",
      " [54 55 62 63 64 65 66 67 68 69]\n",
      " [70 71 72 73 74 75 76 77 78 79]\n",
      " [80 81 82 83 84 85 86 87 88 89]\n",
      " [90 91 92 93 94 95 96 97 98 99]]\n"
     ]
    }
   ],
   "source": [
    "print(dest)"
   ]
  },
  {
   "cell_type": "code",
   "execution_count": null,
   "metadata": {},
   "outputs": [],
   "source": []
  }
 ],
 "metadata": {
  "kernelspec": {
   "display_name": "Python 3",
   "language": "python",
   "name": "python3"
  },
  "language_info": {
   "codemirror_mode": {
    "name": "ipython",
    "version": 3
   },
   "file_extension": ".py",
   "mimetype": "text/x-python",
   "name": "python",
   "nbconvert_exporter": "python",
   "pygments_lexer": "ipython3",
   "version": "3.6.3"
  }
 },
 "nbformat": 4,
 "nbformat_minor": 2
}
