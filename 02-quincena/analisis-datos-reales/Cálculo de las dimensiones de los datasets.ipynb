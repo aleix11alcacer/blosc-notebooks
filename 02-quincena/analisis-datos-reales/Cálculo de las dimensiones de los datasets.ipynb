{
 "cells": [
  {
   "cell_type": "markdown",
   "metadata": {},
   "source": [
    "# Cálculo de las dimensiones de los datasets"
   ]
  },
  {
   "cell_type": "code",
   "execution_count": 2,
   "metadata": {},
   "outputs": [
    {
     "name": "stdout",
     "output_type": "stream",
     "text": [
      "Filename: WRF_India.h5\n",
      "Dataset:  U\n",
      "Shape:    (744, 39, 30, 251)\n",
      "\n",
      "Filename: WRF_India.h5\n",
      "Dataset:  V\n",
      "Shape:    (744, 39, 221, 26)\n",
      "\n",
      "Filename: msft-dc-blosc9.h5\n",
      "Dataset:  msft/table\n",
      "Shape:    (666754,)\n",
      "\n",
      "Filename: pokemon.h5\n",
      "Dataset:  pokemons/table\n",
      "Shape:    (296021,)\n",
      "\n",
      "Filename: movielens.h5\n",
      "Dataset:  ratings\n",
      "Shape:    (1000209,)\n",
      "\n",
      "Filename: GSSTF_NCEP.3-2000-zlib-5.h5\n",
      "Dataset:  Tair_2m\n",
      "Shape:    (366, 720, 1440)\n",
      "\n",
      "Filename: HiSPARC.h5\n",
      "Dataset:  s501/events\n",
      "Shape:    (1703859,)\n",
      "\n",
      "Filename: HiSPARC.h5\n",
      "Dataset:  s503/events\n",
      "Shape:    (1010017,)\n",
      "\n",
      "Filename: HiSPARC.h5\n",
      "Dataset:  s506/events\n",
      "Shape:    (1893800,)\n",
      "\n"
     ]
    }
   ],
   "source": [
    "import pandas as pd\n",
    "import tables as tb\n",
    "import matplotlib.pyplot as plt\n",
    "import pycblosc2 as cb2\n",
    "import numpy as np\n",
    "from math import log\n",
    "import time as t\n",
    "\n",
    "def file_reader(filename, dataset):\n",
    "    with tb.open_file(filename) as f:\n",
    "        child = f.root\n",
    "        for element in dataset.split('/'):\n",
    "            child = child.__getattr__(element)\n",
    "        return child[:]\n",
    "\n",
    "PATH = '/home/aleix/datasets/'\n",
    "\n",
    "FILENAMES = ['WRF_India.h5', 'msft-dc-blosc9.h5', 'pokemon.h5',\n",
    "             'movielens.h5', 'GSSTF_NCEP.3-2000-zlib-5.h5', 'HiSPARC.h5']\n",
    "DATASET_DICT = {'WRF_India.h5': ['U', 'V'],\n",
    "                'msft-dc-blosc9.h5': ['msft/table'],\n",
    "                'pokemon.h5': ['pokemons/table'],\n",
    "                'movielens.h5': ['ratings'],\n",
    "                'GSSTF_NCEP.3-2000-zlib-5.h5': ['Tair_2m'],\n",
    "                'HiSPARC.h5': ['s501/events', 's503/events', 's506/events']}\n",
    "\n",
    "for filename in FILENAMES:\n",
    "    for dataset in DATASET_DICT[filename]:\n",
    "        data = file_reader(PATH + filename, dataset)\n",
    "        print(\"Filename: \" + filename)\n",
    "        print(\"Dataset:  \" + dataset)\n",
    "        print(\"Shape:    \" + str(data.shape))\n",
    "        print()"
   ]
  },
  {
   "cell_type": "code",
   "execution_count": null,
   "metadata": {},
   "outputs": [],
   "source": []
  }
 ],
 "metadata": {
  "kernelspec": {
   "display_name": "Python 3",
   "language": "python",
   "name": "python3"
  },
  "language_info": {
   "codemirror_mode": {
    "name": "ipython",
    "version": 3
   },
   "file_extension": ".py",
   "mimetype": "text/x-python",
   "name": "python",
   "nbconvert_exporter": "python",
   "pygments_lexer": "ipython3",
   "version": "3.6.3"
  }
 },
 "nbformat": 4,
 "nbformat_minor": 2
}
