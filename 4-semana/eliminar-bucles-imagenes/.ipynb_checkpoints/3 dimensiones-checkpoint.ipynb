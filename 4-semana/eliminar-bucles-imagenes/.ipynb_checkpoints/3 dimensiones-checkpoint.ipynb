{
 "cells": [
  {
   "cell_type": "code",
   "execution_count": 3,
   "metadata": {},
   "outputs": [],
   "source": [
    "import matplotlib.pyplot as plt\n",
    "import numpy as np\n",
    "from math import log, sqrt\n",
    "import time as t"
   ]
  },
  {
   "cell_type": "code",
   "execution_count": 324,
   "metadata": {},
   "outputs": [],
   "source": [
    "x = 4\n",
    "y = 4\n",
    "z = 4\n",
    "\n",
    "data = np.arange(x * y * z, dtype=np.int32)\n",
    "data2 = np.arange(x * y * z, dtype=np.int32).reshape(x, y, z)\n",
    "\n",
    "dest = np.empty((x, y, z), dtype=np.int32).flatten()\n",
    "dest2 = np.empty((x, y, z), dtype=np.int32).flatten()\n",
    "\n",
    "orig = np.empty((x, y, z), dtype=np.int32).flatten()\n",
    "\n",
    "dx = 2\n",
    "dy = 2\n",
    "dz = 2"
   ]
  },
  {
   "cell_type": "code",
   "execution_count": 327,
   "metadata": {
    "scrolled": true
   },
   "outputs": [
    {
     "name": "stdout",
     "output_type": "stream",
     "text": [
      "[ 0  1  4  5 16 17 20 21  2  3  6  7 18 19 22 23  8  9 12 13 24 25 28 29\n",
      " 10 11 14 15 26 27 30 31 32 33 36 37 48 49 52 53 34 35 38 39 50 51 54 55\n",
      " 40 41 44 45 56 57 60 61 42 43 46 47 58 59 62 63] [ 0  1  4  5 16 17 20 21  2  3  6  7 18 19 22 23  8  9 12 13 24 25 28 29\n",
      " 10 11 14 15 26 27 30 31 32 33 36 37 48 49 52 53 34 35 38 39 50 51 54 55\n",
      " 40 41 44 45 56 57 60 61 42 43 46 47 58 59 62 63]\n"
     ]
    }
   ],
   "source": [
    "cont = 0\n",
    "\n",
    "D = [0, 0, 0, 0, 0, 0, 0, 0]\n",
    "\n",
    "for i in range(len(data2.shape)):\n",
    "    D[i] = 1\n",
    "\n",
    "for a in np.arange(x*y*z):\n",
    "         \n",
    "    b = a//(dy*dz)%dx*y*z + a//(dz)%dy*z + a%dz +  a//(dx*dy*dz)%(z//dz)*dz + a//(dx*dy*z)%(y//dy)*dy*z + a//(dx*y*z)%(x//dx)*dx*y*z \n",
    "    \n",
    "    dest[a] = data[b]\n",
    "\n",
    "for a in np.arange(x*y*z):\n",
    "    \n",
    "    b = ((a%dz + a//(dx*dy*dz)%(z//dz)*dz)*D[0]\n",
    "         +\n",
    "         (a//(dz)%dy*z + a//(dx*dy*z)%(y//dy)*dy*z)*D[1]\n",
    "         +\n",
    "         (a//(dy*dz)%dx*y*z + a//(dx*y*z)%(x//dx)*dx*y*z)*D[2]\n",
    "         \n",
    "         )\n",
    "    \n",
    "    orig[b] = dest[a]\n",
    "\n",
    "    \n",
    "for i in range(x // dx):\n",
    "    for j in range(y // dy):\n",
    "        for k in range(z // dz):\n",
    "            dest2[cont * dx*dy*dz:(cont+1) * dx*dy*dz] = data2[dx * i:dx * (i+1), dy * j:dy * (j+1), \n",
    "                                                               dz * k:dz * (k+1)].reshape(1, dx*dy*dz)\n",
    "            cont += 1 \n",
    "\n",
    "\n",
    "np.testing.assert_array_equal(dest, dest2)\n",
    "\n",
    "np.testing.assert_array_equal(data, orig)\n",
    "\n",
    "print(dest, dest2)"
   ]
  },
  {
   "cell_type": "code",
   "execution_count": 343,
   "metadata": {},
   "outputs": [],
   "source": [
    "a, b, c, d, e, f, g, h = 4, 4, 4, 4, 1, 1, 1, 1\n",
    "da, db, dc, dd, de, df, dg, dh = 2, 2, 2, 2, 1, 1, 1, 1\n",
    "\n",
    "\n",
    "data = np.arange(a * b * c * d, dtype=np.int32).reshape(a, b, c, d)\n",
    "dest = np.empty((a, b, c, d), dtype=np.int32).flatten()\n",
    "\n",
    "DATA_DIM = [0, 0, 0, 0, 0, 0, 0, 0]\n",
    "DATA_SHP = [1, 1, 1, 1, 1, 1, 1, 1]\n",
    "SUBS_SHP = [1, 1, 1, 1, 1, 1, 1, 1]\n",
    "\n",
    "\n",
    "for dim, shp in enumerate(data.shape):\n",
    "    DATA_DIM[dim] = 1\n",
    "    DATA_SHP[shp] = shp\n",
    "\n",
    "data = data.flatten()\n",
    "\n",
    "for K in np.arange(a*b*c*d*e):\n",
    "    \n",
    "    J = (DATA_DIM[0]*(K%da + K//(da*db*dc*dd*de*df*dg*dh)%(a//da)*da)\n",
    "         +\n",
    "         DATA_DIM[1]*(K//(da)%db*a + K//(a*db*dc*dd*de*df*dg*dh)%(b//db)*a*db)\n",
    "         +\n",
    "         DATA_DIM[2]*(K//(da*db)%dc*b*a + K//(a*b*dc*dd*de*df*dg*dh)%(c//dc)*a*b*dc)\n",
    "         +\n",
    "         DATA_DIM[3]*(K//(da*db*dc)%dd*a*b*c + K//(a*b*c*dd*de*df*dg*dh)%(d//dd)*a*b*c*dd)\n",
    "         +\n",
    "         DATA_DIM[4]*(K//(da*db*dc*dd)%de*a*b*c*d + K//(a*b*c*d*de*df*dg*dh)%(e//de)*a*b*c*d*de)\n",
    "         +         \n",
    "         DATA_DIM[5]*(K//(da*db*dc*dd*de)%df*a*b*c*d*e + K//(a*b*c*d*e*df*dg*dh)%(e//de)*a*b*c*d*e*df)\n",
    "         +\n",
    "         DATA_DIM[6]*(K//(da*db*dc*dd*de*df)%de*a*b*c*d*e*f + K//(a*b*c*d*e*f*dg*dh)%(e//de)*a*b*c*d*e*f*dg)\n",
    "         +\n",
    "         DATA_DIM[7]*(K//(da*db*dc*dd*de*df*dg)%de*a*b*c*d*e*f*g + K//(a*b*c*d*e*f*g*dh)%(e//de)*a*b*c*d*f*g*dh)\n",
    "         )\n",
    "    \n",
    "    dest[K] = data[J]"
   ]
  },
  {
   "cell_type": "code",
   "execution_count": 359,
   "metadata": {},
   "outputs": [],
   "source": [
    "def transfom_data(data, sub_shp):\n",
    "    \n",
    "    dim = [0, 0, 0, 0, 0, 0, 0, 0]\n",
    "    shp = [1, 1, 1, 1, 1, 1, 1, 1]\n",
    "    sub = [1, 1, 1, 1, 1, 1, 1, 1]\n",
    "    \n",
    "    dest = np.empty(data.shape, dtype=np.int32).flatten()\n",
    "    \n",
    "    for d, s in enumerate(data.shape):\n",
    "        dim[d] = 1\n",
    "        shp[d] = s\n",
    "    for d, s in enumerate(sub_shp):\n",
    "        sub[d] = s\n",
    "    \n",
    "    data_aux = data.flatten()\n",
    "    \n",
    "    for K in np.arange(shp[1]*shp[1]*shp[2]*shp[3]*shp[4]*shp[5]*shp[6]*shp[7]):\n",
    "    \n",
    "        J = (dim[0]*((K)%sub[0] + K//(sub[0]*sub[1]*sub[2]*sub[3]*sub[4]*sub[5]*sub[6]*sub[7])\n",
    "                     %(shp[0]//sub[0])*sub[0])\n",
    "             +\n",
    "             dim[1]*(K//(sub[0])%sub[1]*shp[0] + K//(shp[0]*sub[1]*sub[2]*sub[3]*sub[4]*sub[5]*sub[6]*sub[7])%(shp[1]//sub[1])*shp[0]*sub[1])\n",
    "             +\n",
    "             dim[2]*(K//(sub[0]*sub[1])%sub[2]*shp[1]*shp[0] + K//(shp[0]*shp[1]*sub[2]*sub[3]*sub[4]*sub[5]*sub[6]*sub[7])%(shp[2]//sub[2])*shp[0]*shp[1]*sub[2])\n",
    "             +\n",
    "             dim[3]*(K//(sub[0]*sub[1]*sub[2])%sub[3]*shp[0]*shp[1]*shp[2] + K//(shp[0]*shp[1]*shp[2]*sub[3]*sub[4]*sub[5]*sub[6]*sub[7])%(shp[3]//sub[3])*shp[0]*shp[1]*shp[2]*sub[3])\n",
    "             +\n",
    "             dim[4]*(K//(sub[0]*sub[1]*sub[2]*sub[3])%sub[4]*shp[0]*shp[1]*shp[2]*shp[3] + K//(shp[0]*shp[1]*shp[2]*shp[3]*sub[4]*sub[5]*sub[6]*sub[7])%(shp[4]//sub[4])*shp[0]*shp[1]*shp[2]*shp[3]*sub[4])\n",
    "             +         \n",
    "             dim[5]*(K//(sub[0]*sub[1]*sub[2]*sub[3]*sub[4])%sub[5]*shp[0]*shp[1]*shp[2]*shp[3]*shp[4] + K//(shp[0]*shp[1]*shp[2]*shp[3]*shp[4]*sub[5]*sub[6]*sub[7])%(shp[4]//sub[4])*shp[0]*shp[1]*shp[2]*shp[3]*shp[4]*sub[5])\n",
    "             +\n",
    "             dim[6]*(K//(sub[0]*sub[1]*sub[2]*sub[3]*sub[4]*sub[5])%sub[4]*shp[0]*shp[1]*shp[2]*shp[3]*shp[4]*shp[5] + K//(shp[0]*shp[1]*shp[2]*shp[3]*shp[4]*shp[5]*sub[6]*sub[7])%(shp[4]//sub[4])*shp[0]*shp[1]*shp[2]*shp[3]*shp[4]*shp[5]*sub[6])\n",
    "             +\n",
    "             dim[7]*(K//(sub[0]*sub[1]*sub[2]*sub[3]*sub[4]*sub[5]*sub[6])%sub[4]*shp[0]*shp[1]*shp[2]*shp[3]*shp[4]*shp[5]*shp[6] + K//(shp[0]*shp[1]*shp[2]*shp[3]*shp[4]*shp[5]*shp[6]*sub[7])%(shp[4]//sub[4])*shp[0]*shp[1]*shp[2]*shp[3]*shp[5]*shp[6]*sub[7])\n",
    "             )\n",
    "    \n",
    "        dest[K] = data_aux[J]\n",
    "    return dest.reshape(data.shape)"
   ]
  },
  {
   "cell_type": "code",
   "execution_count": 364,
   "metadata": {},
   "outputs": [],
   "source": [
    "a = 4\n",
    "b = 4\n",
    "c = 4\n",
    "\n",
    "data = np.arange(a * b * c, dtype=np.int32).reshape(a, b, c)\n",
    "\n",
    "sub_shp = [2, 2, 2]\n",
    "\n",
    "res = transfom_data(data, sub_shp)"
   ]
  },
  {
   "cell_type": "code",
   "execution_count": 365,
   "metadata": {},
   "outputs": [
    {
     "data": {
      "text/plain": [
       "array([[[ 0,  1,  4,  5],\n",
       "        [16, 17, 20, 21],\n",
       "        [ 2,  3,  6,  7],\n",
       "        [18, 19, 22, 23]],\n",
       "\n",
       "       [[ 8,  9, 12, 13],\n",
       "        [24, 25, 28, 29],\n",
       "        [10, 11, 14, 15],\n",
       "        [26, 27, 30, 31]],\n",
       "\n",
       "       [[32, 33, 36, 37],\n",
       "        [48, 49, 52, 53],\n",
       "        [34, 35, 38, 39],\n",
       "        [50, 51, 54, 55]],\n",
       "\n",
       "       [[40, 41, 44, 45],\n",
       "        [56, 57, 60, 61],\n",
       "        [42, 43, 46, 47],\n",
       "        [58, 59, 62, 63]]], dtype=int32)"
      ]
     },
     "execution_count": 365,
     "metadata": {},
     "output_type": "execute_result"
    }
   ],
   "source": [
    "res"
   ]
  },
  {
   "cell_type": "code",
   "execution_count": null,
   "metadata": {},
   "outputs": [],
   "source": []
  }
 ],
 "metadata": {
  "kernelspec": {
   "display_name": "Python 3",
   "language": "python",
   "name": "python3"
  },
  "language_info": {
   "codemirror_mode": {
    "name": "ipython",
    "version": 3
   },
   "file_extension": ".py",
   "mimetype": "text/x-python",
   "name": "python",
   "nbconvert_exporter": "python",
   "pygments_lexer": "ipython3",
   "version": "3.6.4"
  }
 },
 "nbformat": 4,
 "nbformat_minor": 2
}
